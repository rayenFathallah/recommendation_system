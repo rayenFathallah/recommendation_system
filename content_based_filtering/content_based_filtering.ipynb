{
 "cells": [
  {
   "cell_type": "code",
   "execution_count": 1,
   "id": "04dd5325-cfd2-4bff-bd04-cfbf96a14d09",
   "metadata": {},
   "outputs": [],
   "source": [
    "import pandas as pd"
   ]
  },
  {
   "cell_type": "code",
   "execution_count": 3,
   "id": "903e7247-dd0c-455b-a3af-f2c2025561fd",
   "metadata": {},
   "outputs": [],
   "source": [
    "profiles = pd.read_json('output.json',orient='records') "
   ]
  },
  {
   "cell_type": "code",
   "execution_count": 5,
   "id": "b3ee80f4-bc3a-4a06-982c-666a79a4896a",
   "metadata": {},
   "outputs": [],
   "source": [
    "jobs = pd.read_json('new_jobs.json',orient='records') "
   ]
  },
  {
   "cell_type": "code",
   "execution_count": 6,
   "id": "8dad9ec5-730e-403b-a81d-d6b07e2380d4",
   "metadata": {},
   "outputs": [
    {
     "data": {
      "text/plain": [
       "Index(['positions', 'educations', 'skills', 'accomplishments', 'name',\n",
       "       'location', 'languages', 'days_experience', 'summary', 'max_level'],\n",
       "      dtype='object')"
      ]
     },
     "execution_count": 6,
     "metadata": {},
     "output_type": "execute_result"
    }
   ],
   "source": [
    "profiles.columns"
   ]
  },
  {
   "cell_type": "code",
   "execution_count": 8,
   "id": "a80b5876-1c75-4623-9d39-5f2757acbecf",
   "metadata": {},
   "outputs": [
    {
     "data": {
      "text/plain": [
       "Index(['company_name', 'reference', 'date', 'location', 'experience',\n",
       "       'education', 'description', 'url', 'website', 'skills'],\n",
       "      dtype='object')"
      ]
     },
     "execution_count": 8,
     "metadata": {},
     "output_type": "execute_result"
    }
   ],
   "source": [
    "jobs.columns"
   ]
  },
  {
   "cell_type": "code",
   "execution_count": 9,
   "id": "976be8f4-c1bd-43cd-9002-d7eef9585d4c",
   "metadata": {},
   "outputs": [
    {
     "data": {
      "text/plain": [
       "0       Megrine,              Ben Arous,              ...\n",
       "1       Megrine,              Ben Arous,              ...\n",
       "2                             Gafsa,              Tunisie\n",
       "3       Megrine,              Ben Arous,              ...\n",
       "4       Dar Chaabane Elfehri,              Nabeul,    ...\n",
       "                              ...                        \n",
       "1084    Mannouba,              La Manouba,            ...\n",
       "1085    Sfax Sud,              Sfax,              Tunisie\n",
       "1086    La Soukra,              Ariana,              T...\n",
       "1087    Sfax Sud,              Sfax,              Tunisie\n",
       "1088    Sakiet Ezzit,              Sfax,              ...\n",
       "Name: location, Length: 1089, dtype: object"
      ]
     },
     "execution_count": 9,
     "metadata": {},
     "output_type": "execute_result"
    }
   ],
   "source": [
    "jobs['location']"
   ]
  },
  {
   "cell_type": "code",
   "execution_count": 11,
   "id": "7b3ecae5-d185-452e-9306-214e63564826",
   "metadata": {},
   "outputs": [
    {
     "data": {
      "text/plain": [
       "0                                        France\n",
       "1        Akouda, Gouvernorat de Sousse, Tunisia\n",
       "2               Gouvernorat de Bizerte, Tunisia\n",
       "3          Skhira, Gouvernorat de Sfax, Tunisia\n",
       "4                                       Tunisie\n",
       "                          ...                  \n",
       "11197                            Tunis, Tunisia\n",
       "11198                            Tunis, Tunisia\n",
       "11199                            Tunis, Tunisia\n",
       "11200                     Tunis, Tunis, Tunisia\n",
       "11201                           Nabeul, Tunisia\n",
       "Name: location, Length: 11202, dtype: object"
      ]
     },
     "execution_count": 11,
     "metadata": {},
     "output_type": "execute_result"
    }
   ],
   "source": [
    "profiles['location']"
   ]
  },
  {
   "cell_type": "code",
   "execution_count": 29,
   "id": "c60f69a9-0218-4c6b-94e5-24943abbebc9",
   "metadata": {},
   "outputs": [],
   "source": [
    "from fuzzywuzzy import fuzz\n",
    "def location_similiary(profile_loc, job_loc, threshold):\n",
    "    \n",
    "    similarity_score = fuzz.ratio(profile_loc.lower(), job_loc.lower())\n",
    "    if similarity_score >= threshold : \n",
    "        return 1 \n",
    "    return 0 \n",
    "\n",
    "# Example usage\n",
    "word1 = \"Tunis\"\n",
    "word2 = \"tunis\"\n",
    "threshold = 90 "
   ]
  },
  {
   "cell_type": "code",
   "execution_count": 40,
   "id": "a7528dfa-42c9-4aa0-9457-c7618b7f1698",
   "metadata": {},
   "outputs": [],
   "source": [
    "def level_similarity(profile_level,job_level) : \n",
    "    if job_level==profile_level : \n",
    "        return 1 \n",
    "    return 0 "
   ]
  },
  {
   "cell_type": "code",
   "execution_count": 41,
   "id": "36a46141-a48f-4d29-b60b-ce2c225b302a",
   "metadata": {},
   "outputs": [],
   "source": [
    "def experience_similiarity(job_exp,profile_exp) : \n",
    "    profile_years = int(profile_exp / 365) \n",
    "    if profil_years > job_exp[0] and profile_years < job_exp[1]  : \n",
    "        return 1 \n",
    "    elif profile_years > job_exp[0] and profile_years > job_exp[1] : \n",
    "        return 1.2 \n"
   ]
  },
  {
   "cell_type": "code",
   "execution_count": 46,
   "id": "6d28ada9-c6d9-4f63-a6ca-78194b8fa56b",
   "metadata": {},
   "outputs": [
    {
     "name": "stdout",
     "output_type": "stream",
     "text": [
      "Cosine similarity between profile and job skills: 0.9999999999999999\n"
     ]
    }
   ],
   "source": [
    "from sklearn.metrics.pairwise import cosine_similarity\n",
    "\n",
    "def skills_similiarity(job_skills, profile_skills):\n",
    "    # Convert lists to sets to remove duplicates and make order irrelevant\n",
    "    job_skills_set = set(job_skills)\n",
    "    profile_skills_set = set(profile_skills)\n",
    "    \n",
    "    # Compute intersection of skills\n",
    "    intersecting_skills = job_skills_set.intersection(profile_skills_set)\n",
    "    \n",
    "    if not intersecting_skills:\n",
    "        return 0.0  # If no intersecting skills, return 0 similarity\n",
    "    \n",
    "    # Create binary vectors representing skills\n",
    "    job_skill_vector = np.array([1 if skill in job_skills_set else 0 for skill in job_skills_set])\n",
    "    profile_skill_vector = np.array([1 if skill in intersecting_skills else 0 for skill in job_skills_set])\n",
    "    \n",
    "    # Reshape vectors for cosine similarity calculation\n",
    "    job_skill_vector = job_skill_vector.reshape(1, -1)\n",
    "    profile_skill_vector = profile_skill_vector.reshape(1, -1)\n",
    "    \n",
    "    # Compute cosine similarity between profile and job skills\n",
    "    similarity = cosine_similarity(job_skill_vector, profile_skill_vector)[0][0]\n",
    "    \n",
    "    return similarity\n",
    "\n",
    "# Example usage\n",
    "job_skills = ['communication', 'problem solving', 'teamwork', 'leadership', 'programming']\n",
    "profile_skills = ['teamwork', 'programming', 'communication', 'creativity', 'problem solving','leadership','others']\n",
    "\n",
    "similarity = skills_similiarity(job_skills, profile_skills)\n",
    "print(\"Cosine similarity between profile and job skills:\", similarity)\n"
   ]
  },
  {
   "cell_type": "code",
   "execution_count": null,
   "id": "42fe0c2d-8d2e-46bc-8e27-30b72eeab52a",
   "metadata": {},
   "outputs": [],
   "source": []
  }
 ],
 "metadata": {
  "kernelspec": {
   "display_name": "Python 3 (ipykernel)",
   "language": "python",
   "name": "python3"
  },
  "language_info": {
   "codemirror_mode": {
    "name": "ipython",
    "version": 3
   },
   "file_extension": ".py",
   "mimetype": "text/x-python",
   "name": "python",
   "nbconvert_exporter": "python",
   "pygments_lexer": "ipython3",
   "version": "3.11.4"
  }
 },
 "nbformat": 4,
 "nbformat_minor": 5
}
