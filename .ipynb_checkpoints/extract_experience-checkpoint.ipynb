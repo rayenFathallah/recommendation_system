{
 "cells": [
  {
   "cell_type": "code",
   "execution_count": 1,
   "id": "7e96b79f-c2ed-4d95-9225-23abe49dd2eb",
   "metadata": {},
   "outputs": [],
   "source": [
    "import pandas as pd "
   ]
  },
  {
   "cell_type": "code",
   "execution_count": 14,
   "id": "a88a48ee-e478-4479-859e-e10ce9d496c6",
   "metadata": {},
   "outputs": [],
   "source": [
    "data_keejob = pd.read_json('./jobs_scraping/jobs_scraping/final_jobs.json') \n",
    "data2 = pd.read_json('./jobs_scraping/jobs_scraping/tanit_jobs.json')  "
   ]
  },
  {
   "cell_type": "code",
   "execution_count": 28,
   "id": "0f209453-a7d5-487a-a8c7-9c669367238a",
   "metadata": {},
   "outputs": [
    {
     "data": {
      "text/plain": [
       "experience\n",
       "[2, 5]       352\n",
       "[1, 2]       343\n",
       "[0, 1]       136\n",
       "[0, 0]       130\n",
       "[5, 10]      111\n",
       "[10, inf]     17\n",
       "Name: count, dtype: int64"
      ]
     },
     "execution_count": 28,
     "metadata": {},
     "output_type": "execute_result"
    }
   ],
   "source": [
    "data_keejob['experience'].value_counts() "
   ]
  },
  {
   "cell_type": "code",
   "execution_count": 33,
   "id": "029d9351-0fd2-4155-97d1-405ad641b2fc",
   "metadata": {},
   "outputs": [
    {
     "data": {
      "text/plain": [
       "array(['Megrine,              Ben Arous,              Tunisie',\n",
       "       'Gafsa,              Tunisie',\n",
       "       'Dar Chaabane Elfehri,              Nabeul,              Tunisie',\n",
       "       'Ariana Ville,              Ariana,              Tunisie',\n",
       "       'La Marsa,              Tunis,              Tunisie',\n",
       "       'Ben Arous,              Ben Arous,              Tunisie',\n",
       "       'Tunis,              Tunis,              France',\n",
       "       'Mornaguia,              La Manouba,              Tunisie',\n",
       "       'Mannouba,              La Manouba,              Tunisie',\n",
       "       'Sfax,              Tunisie', 'Tunis,              Tunisie',\n",
       "       'Ariana,              Tunisie', 'Sousse,              Tunisie',\n",
       "       'Cite El Khadra,              Tunis,              Tunisie',\n",
       "       'Sousse Ville,              Sousse,              Tunisie',\n",
       "       'La Soukra,              Ariana,              Tunisie',\n",
       "       'Centre ville,              Tunis,              Tunisie',\n",
       "       'El Hencha,              Sfax,              Tunisie',\n",
       "       'El Menzah,              Tunis,              Tunisie',\n",
       "       'Hammam Sousse,              Sousse,              Tunisie',\n",
       "       'Sidi Hassine,              Tunis,              Tunisie',\n",
       "       'Gabes,              Tunisie',\n",
       "       'Mejez El Bab,              Béja,              Tunisie',\n",
       "       'Enfidha,              Sousse,              Tunisie',\n",
       "       '.,              France', 'Nabeul,              Tunisie',\n",
       "       'Sfax Ville,              Sfax,              Tunisie',\n",
       "       'Zaghouan,              Zaghouan,              Tunisie',\n",
       "       'nice,              nice,              France',\n",
       "       'Monastir,              Tunisie',\n",
       "       'Nabeul,              Nabeul,              Tunisie',\n",
       "       'Sakiet Eddaier,              Sfax,              Tunisie',\n",
       "       'Grombalia,              Nabeul,              Tunisie',\n",
       "       'Bizerte,              Tunisie',\n",
       "       'Oued Ellil,              La Manouba,              Tunisie',\n",
       "       'Jarzouna,              Bizerte,              Tunisie',\n",
       "       'El Hrairia,              Tunis,              Tunisie',\n",
       "       'La Manouba,              Tunisie',\n",
       "       'Sbikha,              Kairouan,              Tunisie',\n",
       "       'Ezzahra,              Ben Arous,              Tunisie',\n",
       "       'Raoued,              Ariana,              Tunisie',\n",
       "       'Mnihla,              Ariana,              Tunisie',\n",
       "       'Hammamet,              Nabeul,              Tunisie',\n",
       "       'Zaghouan,              Tunisie',\n",
       "       'El Omrane Superieur,              Tunis,              Tunisie',\n",
       "       'Sousse Jaouhara,              Sousse,              Tunisie',\n",
       "       'Sidi Bouzid,              Tunisie',\n",
       "       'Utique,              Bizerte,              Tunisie',\n",
       "       'Jebel Jelloud,              Tunis,              Tunisie',\n",
       "       'Mahdia,              Tunisie', 'Ben Arous,              Tunisie',\n",
       "       'Rades,              Ben Arous,              Tunisie',\n",
       "       'Bir Mcherga,              Zaghouan,              Tunisie',\n",
       "       'El Mourouj,              Ben Arous,              Tunisie',\n",
       "       'Bab Bhar,              Tunis,              Tunisie',\n",
       "       'Kasserine,              Tunisie',\n",
       "       'Hammam Zriba,              Zaghouan,              Tunisie',\n",
       "       'Bab Souika,              Tunis,              Tunisie',\n",
       "       'Fouchana,              Ben Arous,              Tunisie',\n",
       "       'El Kram,              Tunis,              Tunisie',\n",
       "       'Kalaa El Kebira,              Sousse,              Tunisie',\n",
       "       'Mateur,              Bizerte,              Tunisie',\n",
       "       'Beja Nord,              Béja,              Tunisie',\n",
       "       'La Goulette,              Tunis,              Tunisie',\n",
       "       'Hammam Chatt,              Ben Arous,              Tunisie',\n",
       "       'Carthage,              Tunis,              Tunisie',\n",
       "       'Tunis,              Tunis,              Tunisie',\n",
       "       'Médenine,              Tunisie',\n",
       "       'Menzel Temime,              Nabeul,              Tunisie',\n",
       "       'Houmet Essouk,              Médenine,              Tunisie',\n",
       "       'Monastir,              Monastir,              Tunisie',\n",
       "       'Bou Arada,              Siliana,              Tunisie',\n",
       "       'Bou Mhel El Bassatine,              Ben Arous,              Tunisie',\n",
       "       'Bizerte Nord,              Bizerte,              Tunisie',\n",
       "       'Jendouba,              Tunisie',\n",
       "       'Jendouba,              Jendouba,              Tunisie',\n",
       "       'La Chebba,              Mahdia,              Tunisie',\n",
       "       'Ariana,              Ariana,              Tunisie',\n",
       "       'Bembla,              Monastir,              Tunisie',\n",
       "       'Béja,              Tunisie',\n",
       "       'Msaken,              Sousse,              Tunisie',\n",
       "       'Soliman,              Nabeul,              Tunisie',\n",
       "       'Tunis,              Ariana,              Tunisie',\n",
       "       'Menzel Jemil,              Bizerte,              Tunisie',\n",
       "       'Sousse Riadh,              Sousse,              Tunisie',\n",
       "       'Gabes Medina,              Gabes,              Tunisie',\n",
       "       'Mahdia,              Mahdia,              Tunisie',\n",
       "       'Sahline,              Monastir,              Tunisie',\n",
       "       'Sakiet Ezzit,              Sfax,              Tunisie',\n",
       "       'Sidi El Heni,              Sousse,              Tunisie',\n",
       "       'Mezzouna,              Sidi Bouzid,              Tunisie',\n",
       "       'Le Bardo,              Tunis,              Tunisie',\n",
       "       'Beni Khiar,              Nabeul,              Tunisie',\n",
       "       'Menzel Bourguiba,              Bizerte,              Tunisie',\n",
       "       'La Medina,              Tunis,              Tunisie',\n",
       "       'Tozeur,              Tunisie',\n",
       "       'Midoun,              Médenine,              Tunisie',\n",
       "       'Jemmal,              Monastir,              Tunisie',\n",
       "       'Tataouine,              Tunisie',\n",
       "       'El Metouia,              Gabes,              Tunisie',\n",
       "       'El Battan,              La Manouba,              Tunisie',\n",
       "       'Kairouan Sud,              Kairouan,              Tunisie',\n",
       "       'WOIPPY,              France',\n",
       "       'Sayada Lamta Bou Hajar,              Monastir,              Tunisie',\n",
       "       'Ksibet El Mediouni,              Monastir,              Tunisie',\n",
       "       'Akouda,              Sousse,              Tunisie',\n",
       "       'Sfax Sud,              Sfax,              Tunisie'], dtype=object)"
      ]
     },
     "execution_count": 33,
     "metadata": {},
     "output_type": "execute_result"
    }
   ],
   "source": [
    "data_keejob['location'].unique()"
   ]
  },
  {
   "cell_type": "code",
   "execution_count": 36,
   "id": "788d1eaf-14d8-4755-91d1-a181fbbb3bc6",
   "metadata": {},
   "outputs": [],
   "source": [
    "# Gouvernorats en anglais\n",
    "governorates= list(set([\n",
    "    \"Tunis\",\n",
    "    \"Ariana\",\n",
    "    \"Ben Arous\",\n",
    "    \"Manouba\",\n",
    "    \"Béja\",\n",
    "    \"Bizerte\",\n",
    "    \"Gabes\",\n",
    "    \"Gafsa\",\n",
    "    \"Jendouba\",\n",
    "    \"Kairouan\",\n",
    "    \"Kasserine\",\n",
    "    \"Kebili\",\n",
    "    \"Kef\",\n",
    "    \"Mahdia\",\n",
    "    \"Medenine\",\n",
    "    \"Monastir\",\n",
    "    \"Nabeul\",\n",
    "    \"Sfax\",\n",
    "    \"Sidi Bouzid\",\n",
    "    \"Siliana\",\n",
    "    \"Sousse\",\n",
    "    \"Tataouine\",\n",
    "    \"Tozeur\",\n",
    "    \"Zaghouan\",\n",
    "    \"Ariana\",\n",
    "    \"Ben Arous\",\n",
    "    \"Manouba\",\n",
    "    \"Béja\",\n",
    "    \"Bizerte\",\n",
    "    \"Gabès\",\n",
    "    \"Gafsa\",\n",
    "    \"Jendouba\",\n",
    "    \"Kairouan\",\n",
    "    \"Kasserine\",\n",
    "    \"Kébili\",\n",
    "    \"Le Kef\",\n",
    "    \"Mahdia\",\n",
    "    \"Médnine\",\n",
    "    \"Monastir\",\n",
    "    \"Nabeul\",\n",
    "    \"Sfax\",\n",
    "    \"Sidi Bouzid\",\n",
    "    \"Siliana\",\n",
    "    \"Sousse\",\n",
    "    \"Tataouine\",\n",
    "    \"Tozeur\",\n",
    "    \"Zaghouan\"\n",
    "]))\n"
   ]
  },
  {
   "cell_type": "code",
   "execution_count": 37,
   "id": "f9d7dd6e-3d8c-44d8-b6e1-2bbf4041873a",
   "metadata": {},
   "outputs": [
    {
     "data": {
      "text/plain": [
       "['Sfax',\n",
       " 'Ariana',\n",
       " 'Kef',\n",
       " 'Kairouan',\n",
       " 'Le Kef',\n",
       " 'Medenine',\n",
       " 'Zaghouan',\n",
       " 'Gafsa',\n",
       " 'Siliana',\n",
       " 'Jendouba',\n",
       " 'Béja',\n",
       " 'Gabès',\n",
       " 'Nabeul',\n",
       " 'Mahdia',\n",
       " 'Kébili',\n",
       " 'Sousse',\n",
       " 'Tataouine',\n",
       " 'Manouba',\n",
       " 'Gabes',\n",
       " 'Tozeur',\n",
       " 'Médnine',\n",
       " 'Kasserine',\n",
       " 'Sidi Bouzid',\n",
       " 'Ben Arous',\n",
       " 'Kebili',\n",
       " 'Tunis',\n",
       " 'Bizerte',\n",
       " 'Monastir']"
      ]
     },
     "execution_count": 37,
     "metadata": {},
     "output_type": "execute_result"
    }
   ],
   "source": [
    "governorates"
   ]
  },
  {
   "cell_type": "code",
   "execution_count": 39,
   "id": "5dbbbeac-43ca-4888-95b6-83f72ab908d2",
   "metadata": {},
   "outputs": [],
   "source": [
    "locations = data_keejob['location'].unique()"
   ]
  },
  {
   "cell_type": "code",
   "execution_count": 42,
   "id": "bbe802c5-c107-448f-b0ed-4839e8542eb2",
   "metadata": {},
   "outputs": [],
   "source": [
    "def extract_location(loc) : \n",
    "    gouvs = ['Sfax',\n",
    " 'Ariana',\n",
    " 'Kef',\n",
    " 'Kairouan',\n",
    " 'Le Kef',\n",
    " 'Medenine',\n",
    " 'Zaghouan',\n",
    " 'Gafsa',\n",
    " 'Siliana',\n",
    " 'Jendouba',\n",
    " 'Béja',\n",
    " 'Gabès',\n",
    " 'Nabeul',\n",
    " 'Mahdia',\n",
    " 'Kébili',\n",
    " 'Sousse',\n",
    " 'Tataouine',\n",
    " 'Manouba',\n",
    " 'Gabes',\n",
    " 'Tozeur',\n",
    " 'Médnine',\n",
    " 'Kasserine',\n",
    " 'Sidi Bouzid',\n",
    " 'Ben Arous',\n",
    " 'Kebili',\n",
    " 'Tunis',\n",
    " 'Bizerte',\n",
    " 'Monastir']\n",
    "    for elem in gouvs : \n",
    "        if elem in loc : \n",
    "            return elem\n",
    "            \n",
    "    "
   ]
  },
  {
   "cell_type": "code",
   "execution_count": 57,
   "id": "4811d8d1-5be9-447a-8ddf-75fa558481c1",
   "metadata": {},
   "outputs": [
    {
     "name": "stdout",
     "output_type": "stream",
     "text": [
      "Ben Arous\n",
      "Gafsa\n",
      "Nabeul\n",
      "Ariana\n",
      "Tunis\n",
      "Ben Arous\n",
      "Tunis\n",
      "Manouba\n",
      "Manouba\n",
      "Sfax\n",
      "Tunis\n",
      "Ariana\n",
      "Sousse\n",
      "Tunis\n",
      "Sousse\n",
      "Ariana\n",
      "Tunis\n",
      "Sfax\n",
      "Tunis\n",
      "Sousse\n",
      "Tunis\n",
      "Gabes\n",
      "Béja\n",
      "Sousse\n",
      "None\n",
      "Nabeul\n",
      "Sfax\n",
      "Zaghouan\n",
      "None\n",
      "Tunis\n",
      "Nabeul\n",
      "Sfax\n",
      "Nabeul\n",
      "Tunis\n",
      "Manouba\n",
      "Tunis\n",
      "Tunis\n",
      "Manouba\n",
      "Kairouan\n",
      "Ben Arous\n",
      "Ariana\n",
      "Ariana\n",
      "Nabeul\n",
      "Zaghouan\n",
      "Tunis\n",
      "Sousse\n",
      "Sidi Bouzid\n",
      "Tunis\n",
      "Tunis\n",
      "Mahdia\n",
      "Ben Arous\n",
      "Ben Arous\n",
      "Zaghouan\n",
      "Ben Arous\n",
      "Tunis\n",
      "Kasserine\n",
      "Zaghouan\n",
      "Tunis\n",
      "Ben Arous\n",
      "Tunis\n",
      "Sousse\n",
      "Tunis\n",
      "Béja\n",
      "Tunis\n",
      "Ben Arous\n",
      "Tunis\n",
      "Tunis\n",
      "Tunis\n",
      "Nabeul\n",
      "Tunis\n",
      "Tunis\n",
      "Siliana\n",
      "Ben Arous\n",
      "Tunis\n",
      "Jendouba\n",
      "Jendouba\n",
      "Mahdia\n",
      "Ariana\n",
      "Tunis\n",
      "Béja\n",
      "Sousse\n",
      "Nabeul\n",
      "Ariana\n",
      "Tunis\n",
      "Sousse\n",
      "Gabes\n",
      "Mahdia\n",
      "Tunis\n",
      "Sfax\n",
      "Sousse\n",
      "Sidi Bouzid\n",
      "Tunis\n",
      "Nabeul\n",
      "Tunis\n",
      "Tunis\n",
      "Tozeur\n",
      "Tunis\n",
      "Tunis\n",
      "Tataouine\n",
      "Gabes\n",
      "Manouba\n",
      "Kairouan\n",
      "None\n",
      "Tunis\n",
      "Tunis\n",
      "Sousse\n",
      "Sfax\n"
     ]
    }
   ],
   "source": [
    "for elem in locations : \n",
    "    print(extract_location(elem)) "
   ]
  },
  {
   "cell_type": "code",
   "execution_count": 7,
   "id": "a51bc236-887c-41ff-bb1a-b2ec3d15ea73",
   "metadata": {},
   "outputs": [
    {
     "data": {
      "text/plain": [
       "experience\n",
       "1 à 3 ans      1437\n",
       "3 à 5 ans       724\n",
       "0 à 1 an        673\n",
       "5 à 10 ans      381\n",
       "débutant        365\n",
       "plus 10 ans      67\n",
       "Name: count, dtype: int64"
      ]
     },
     "execution_count": 7,
     "metadata": {},
     "output_type": "execute_result"
    }
   ],
   "source": [
    "data2['experience'].value_counts() "
   ]
  },
  {
   "cell_type": "code",
   "execution_count": 22,
   "id": "b1ff073e-b430-46b3-addb-c0aa742a1d3e",
   "metadata": {},
   "outputs": [],
   "source": [
    "experiences = data2['experience'].unique().tolist()"
   ]
  },
  {
   "cell_type": "code",
   "execution_count": 23,
   "id": "49244d80-4b25-4700-9ab2-70cb41c78d83",
   "metadata": {},
   "outputs": [
    {
     "data": {
      "text/plain": [
       "['1 à 3 ans',\n",
       " '3 à 5 ans',\n",
       " '0 à 1 an',\n",
       " nan,\n",
       " 'débutant',\n",
       " '5 à 10 ans',\n",
       " 'plus 10 ans']"
      ]
     },
     "execution_count": 23,
     "metadata": {},
     "output_type": "execute_result"
    }
   ],
   "source": [
    "experiences"
   ]
  },
  {
   "cell_type": "code",
   "execution_count": 21,
   "id": "70e51ca6-dbbb-4ceb-be99-7abda3ccc13d",
   "metadata": {},
   "outputs": [],
   "source": [
    "def extract_experience_keejob(exp) : \n",
    "    association_dict = {'Aucune expérience' : [0,0],\"Moins d'un an\"  : [0,1], \"Moins de deux ans\"  : [0,2],\"Moins de trois ans\"  : [0,3],\n",
    "                        \"Entre 1 et 2 ans\" : [1,2], 'Entre 2 et 5 ans' : [2,5],'Entre 1 et 3 ans' : [1,3], \"Entre 5 et 10 ans\" : [5,10],\n",
    "                        'Plus que 10 ans' : [10,float('inf')]}\n",
    "                        \n",
    "    if exp in association_dict.keys() : \n",
    "        return association_dict[exp] \n",
    "    return [0,float('inf')] "
   ]
  },
  {
   "cell_type": "code",
   "execution_count": 24,
   "id": "db9269ab-02aa-48d7-b9a2-23faec6b0702",
   "metadata": {},
   "outputs": [],
   "source": [
    "def extract_experience_tanit(exp) : \n",
    "    association_dict = {'débutant' : [0,0],'0 à 1 an'  : [0,1], \"Moins de deux ans\"  : [0,2],\"Moins de trois ans\"  : [0,3],\n",
    "                        '1 à 3 ans' : [1,3], '3 à 5 ans' : [3,5],'5 à 10 ans' : [5,10], \"Entre 5 et 10 ans\" : [5,10],\n",
    "                        'plus 10 ans' : [10,float('inf')]}\n",
    "                        \n",
    "    if exp in association_dict.keys() : \n",
    "        return association_dict[exp] \n",
    "    return [0,float('inf')] "
   ]
  },
  {
   "cell_type": "code",
   "execution_count": 25,
   "id": "15d2708b-93a0-47fc-a059-26f65b4ebc8d",
   "metadata": {},
   "outputs": [
    {
     "name": "stdout",
     "output_type": "stream",
     "text": [
      "[1, 3]\n",
      "[3, 5]\n",
      "[0, 1]\n",
      "[0, inf]\n",
      "[0, 0]\n",
      "[5, 10]\n",
      "[10, inf]\n"
     ]
    }
   ],
   "source": [
    "for elem in experiences : \n",
    "    print(extract_experience_tanit(elem)) "
   ]
  },
  {
   "cell_type": "code",
   "execution_count": 79,
   "id": "51f7a7f5-fbbd-4fd7-aeb5-c1399e3c9a30",
   "metadata": {},
   "outputs": [],
   "source": [
    "def extract_location(loc) : \n",
    "    gouvs = ['sfax',\n",
    " 'ariana',\n",
    " 'kef',\n",
    " 'kairouan',\n",
    " 'le kef',\n",
    " 'medenine',\n",
    " 'zaghouan',\n",
    " 'gafsa',\n",
    " 'siliana',\n",
    " 'jendouba',\n",
    " 'béja',\n",
    " 'gabès',\n",
    " 'nabeul',\n",
    " 'mahdia',\n",
    " 'kébili',\n",
    " 'sousse',\n",
    " 'tataouine',\n",
    " 'manouba',\n",
    " 'gabes',\n",
    " 'tozeur',\n",
    " 'médnine',\n",
    " 'kasserine',\n",
    " 'sidi Bouzid',\n",
    " 'ben Arous',\n",
    " 'kebili',\n",
    " 'tunis',\n",
    " 'bizerte',\n",
    " 'monastir']\n",
    "    for elem in gouvs : \n",
    "        if elem.lower() in loc : \n",
    "            return elem\n",
    "\n",
    "    "
   ]
  },
  {
   "cell_type": "code",
   "execution_count": 84,
   "id": "c41c36b1-30cc-4db9-affe-4563901ceb77",
   "metadata": {},
   "outputs": [
    {
     "data": {
      "text/plain": [
       "'tunis'"
      ]
     },
     "execution_count": 84,
     "metadata": {},
     "output_type": "execute_result"
    }
   ],
   "source": [
    "extract_location('1                               3                             tunis, tunis, tunisie') "
   ]
  },
  {
   "cell_type": "code",
   "execution_count": 82,
   "id": "eda9bcd1-0b2e-436f-970c-d49bbf36ec41",
   "metadata": {},
   "outputs": [
    {
     "data": {
      "text/plain": [
       "0       02 rue des figues, route de la plage raoued\n",
       "1                               sfax, sfax, tunisie\n",
       "2                  montplaisir , la soukra, tunisie\n",
       "3                             tunis, tunis, tunisie\n",
       "4                       zaghouan, zaghouan, tunisie\n",
       "                           ...                     \n",
       "4633                       rue rubat complexe zaoui\n",
       "4634                        sousse, sousse, tunisie\n",
       "4635                          tunis, tunis, tunisie\n",
       "4636                          tunis, tunis, tunisie\n",
       "4637                          tunis, tunis, tunisie\n",
       "Name: location, Length: 4638, dtype: object"
      ]
     },
     "execution_count": 82,
     "metadata": {},
     "output_type": "execute_result"
    }
   ],
   "source": [
    "data2.location"
   ]
  },
  {
   "cell_type": "code",
   "execution_count": 87,
   "id": "56b857ca-2f61-4c0d-a385-7fe4854459e5",
   "metadata": {},
   "outputs": [],
   "source": [
    "locs = set() \n",
    "locations_tanit = data2.location.unique() \n",
    "for elem in locations_tanit : \n",
    "    locs.add(extract_location(elem))"
   ]
  },
  {
   "cell_type": "code",
   "execution_count": 88,
   "id": "b1714fe5-e02e-4258-bf78-8bca81ecfa98",
   "metadata": {},
   "outputs": [
    {
     "data": {
      "text/plain": [
       "{None,\n",
       " 'ariana',\n",
       " 'ben Arous',\n",
       " 'bizerte',\n",
       " 'béja',\n",
       " 'gabes',\n",
       " 'gabès',\n",
       " 'gafsa',\n",
       " 'jendouba',\n",
       " 'kairouan',\n",
       " 'kasserine',\n",
       " 'kébili',\n",
       " 'mahdia',\n",
       " 'manouba',\n",
       " 'monastir',\n",
       " 'nabeul',\n",
       " 'sfax',\n",
       " 'sidi Bouzid',\n",
       " 'siliana',\n",
       " 'sousse',\n",
       " 'tataouine',\n",
       " 'tozeur',\n",
       " 'tunis',\n",
       " 'zaghouan'}"
      ]
     },
     "execution_count": 88,
     "metadata": {},
     "output_type": "execute_result"
    }
   ],
   "source": [
    "locs"
   ]
  },
  {
   "cell_type": "markdown",
   "id": "1073fb50-2d34-49fd-91eb-6ce2feabc376",
   "metadata": {},
   "source": [
    "## Education : "
   ]
  },
  {
   "cell_type": "code",
   "execution_count": 6,
   "id": "80449510-ae40-4a1a-8456-7522ea54be12",
   "metadata": {},
   "outputs": [
    {
     "data": {
      "text/plain": [
       "education\n",
       "Bac + 3                        472\n",
       "Bac + 5                        261\n",
       "Formations professionnelles     97\n",
       "Bac                             83\n",
       "Bac + 2                         74\n",
       "Bac + 4                         41\n",
       "Bac + 1                         25\n",
       "Secondaire                      17\n",
       "Doctorat                         9\n",
       "Expert, Recherche                7\n",
       "Primaire                         3\n",
       "Name: count, dtype: int64"
      ]
     },
     "execution_count": 6,
     "metadata": {},
     "output_type": "execute_result"
    }
   ],
   "source": [
    "data_keejob['education'].value_counts()"
   ]
  },
  {
   "cell_type": "code",
   "execution_count": 8,
   "id": "9bab7651-d17c-43f9-b218-6229b1366df2",
   "metadata": {},
   "outputs": [],
   "source": [
    "qualifications = {\n",
    "    \"Licence, Bac + 3\":'Bac + 3',\n",
    "    \"DESS, DEA, Master, Bac + 5, Grandes Écoles\" : 'Bac + 5',\n",
    "    \"Ingénieur\":'Bac + 5' ,\n",
    "    \"DUT, BTS, Bac + 2\":'Bac + 2',\n",
    "    \"Maîtrise, IEP, IUP, Bac + 4\":'Bac + 4',\n",
    "    \"Bac professionnel, BEP, CAP\":'Bac',\n",
    "    \"Lycée, Niveau Bac\":'Bac',\n",
    "    \"Diplôme non validé\":'Bac + 3',\n",
    "    \"Bac non validé\":'Secondaire',\n",
    "    \"Étudiant\":'Bac + 2',\n",
    "    \"Expert, Recherche\":\"Expert, Recherche\",\n",
    "    \"Doctorat, PhD\":'Doctorat',\n",
    "    \"Médecin généraliste\":\"Expert, Recherche\",\n",
    "    \"Médecin spécialiste\":\"Expert, Recherche\"\n",
    "}\n",
    "qualifs = {'ingénieur':'Bac + 5',\n",
    " 'licence, bac + 3':'Bac + 3',\n",
    " 'dut, bts, bac + 2':\"Bac + 2\",\n",
    " 'dess, dea, master, bac + 5, grandes ecoles':\"Bac + 5\",\n",
    " 'maîtrise, iep, iup, bac + 4':\"Bac + 4\",\n",
    " 'bac non validé':\"Secondaire\",\n",
    " 'diplôme non validé':\"Bac + 3\",\n",
    " 'lycée, niveau bac':\"Secondaire\",\n",
    " 'bac professionnel, bep, cap':\"Bac\",\n",
    " 'xpert, recherche':\"Expert, Recherche\",\n",
    " 'etudiant':\"Bac + 2\",\n",
    " 'doctorat, phd':\"Doctorat\",\n",
    " 'médecin généraliste':\"Expert, Recherche\",\n",
    " 'médecin spécialiste':\"Expert, Recherche\"}\n"
   ]
  },
  {
   "cell_type": "code",
   "execution_count": 22,
   "id": "b9b3c018-ffcc-41f7-8d13-2ebc20de402f",
   "metadata": {},
   "outputs": [],
   "source": [
    "educations = data2['education'].unique().tolist()"
   ]
  },
  {
   "cell_type": "code",
   "execution_count": 23,
   "id": "8b5c0863-a4a0-43fc-bf02-ac29410cab0c",
   "metadata": {},
   "outputs": [
    {
     "data": {
      "text/plain": [
       "['ingénieur',\n",
       " nan,\n",
       " 'licence, bac + 3',\n",
       " 'dut, bts, bac + 2',\n",
       " 'dess, dea, master, bac + 5, grandes ecoles',\n",
       " 'maîtrise, iep, iup, bac + 4',\n",
       " 'bac non validé',\n",
       " 'diplôme non validé',\n",
       " 'lycée, niveau bac',\n",
       " 'bac professionnel, bep, cap',\n",
       " 'xpert, recherche',\n",
       " 'etudiant',\n",
       " 'doctorat, phd',\n",
       " 'médecin généraliste',\n",
       " 'médecin spécialiste']"
      ]
     },
     "execution_count": 23,
     "metadata": {},
     "output_type": "execute_result"
    }
   ],
   "source": [
    "educations"
   ]
  },
  {
   "cell_type": "code",
   "execution_count": 9,
   "id": "b61aca55-8dfe-4536-8d0d-d42896876c5d",
   "metadata": {},
   "outputs": [],
   "source": [
    "def get_education(edu) : \n",
    "    if edu in qualifications.keys() : \n",
    "        return qualificiations[edu] \n",
    "    return None"
   ]
  },
  {
   "cell_type": "code",
   "execution_count": null,
   "id": "446f1f34-1306-4b57-bfb2-c095fc6f467a",
   "metadata": {},
   "outputs": [],
   "source": [
    "data2"
   ]
  },
  {
   "cell_type": "code",
   "execution_count": 11,
   "id": "4b94abd1-36a7-42e7-bd7f-b61f1e5b582b",
   "metadata": {},
   "outputs": [],
   "source": [
    "data2['education'] = data2['education'].apply(get_education) "
   ]
  },
  {
   "cell_type": "code",
   "execution_count": 13,
   "id": "65bafe59-d610-4cda-9623-3ca92a530698",
   "metadata": {},
   "outputs": [
    {
     "data": {
      "text/plain": [
       "0       None\n",
       "1       None\n",
       "2       None\n",
       "3       None\n",
       "4       None\n",
       "        ... \n",
       "4633    None\n",
       "4634    None\n",
       "4635    None\n",
       "4636    None\n",
       "4637    None\n",
       "Name: education, Length: 4638, dtype: object"
      ]
     },
     "execution_count": 13,
     "metadata": {},
     "output_type": "execute_result"
    }
   ],
   "source": [
    "data2['education']"
   ]
  }
 ],
 "metadata": {
  "kernelspec": {
   "display_name": "Python 3 (ipykernel)",
   "language": "python",
   "name": "python3"
  },
  "language_info": {
   "codemirror_mode": {
    "name": "ipython",
    "version": 3
   },
   "file_extension": ".py",
   "mimetype": "text/x-python",
   "name": "python",
   "nbconvert_exporter": "python",
   "pygments_lexer": "ipython3",
   "version": "3.11.4"
  }
 },
 "nbformat": 4,
 "nbformat_minor": 5
}
