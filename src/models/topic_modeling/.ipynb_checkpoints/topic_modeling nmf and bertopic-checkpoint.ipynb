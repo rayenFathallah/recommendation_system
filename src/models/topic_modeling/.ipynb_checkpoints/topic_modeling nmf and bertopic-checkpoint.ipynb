{
 "cells": [
  {
   "cell_type": "code",
   "execution_count": 1,
   "id": "561249dc-dc47-449d-8dd7-a55142d0801e",
   "metadata": {},
   "outputs": [],
   "source": [
    "import pandas as pd"
   ]
  },
  {
   "cell_type": "code",
   "execution_count": 2,
   "id": "4806c954-677c-4948-929f-f3aefc6c82be",
   "metadata": {},
   "outputs": [],
   "source": [
    "jobs_data = pd.read_csv('job_skills.csv') "
   ]
  },
  {
   "cell_type": "code",
   "execution_count": 3,
   "id": "b0aaea52-3656-4172-928a-1cb13a2c50b4",
   "metadata": {},
   "outputs": [
    {
     "data": {
      "text/plain": [
       "'Building Custodial Services, Cleaning, Janitorial Services, Materials Handling, Housekeeping, Sanitation, Waste Management, Floor Maintenance, Equipment Maintenance, Safety Protocols, Communication Skills, Attention to Detail, Physical Strength, Experience in Housekeeping'"
      ]
     },
     "execution_count": 3,
     "metadata": {},
     "output_type": "execute_result"
    }
   ],
   "source": [
    "jobs_data['job_skills'][0]"
   ]
  },
  {
   "cell_type": "code",
   "execution_count": 4,
   "id": "585c477a-151f-484a-8df0-748d00b72b86",
   "metadata": {},
   "outputs": [
    {
     "data": {
      "text/html": [
       "<div>\n",
       "<style scoped>\n",
       "    .dataframe tbody tr th:only-of-type {\n",
       "        vertical-align: middle;\n",
       "    }\n",
       "\n",
       "    .dataframe tbody tr th {\n",
       "        vertical-align: top;\n",
       "    }\n",
       "\n",
       "    .dataframe thead th {\n",
       "        text-align: right;\n",
       "    }\n",
       "</style>\n",
       "<table border=\"1\" class=\"dataframe\">\n",
       "  <thead>\n",
       "    <tr style=\"text-align: right;\">\n",
       "      <th></th>\n",
       "      <th>job_link</th>\n",
       "      <th>job_skills</th>\n",
       "    </tr>\n",
       "  </thead>\n",
       "  <tbody>\n",
       "    <tr>\n",
       "      <th>68</th>\n",
       "      <td>https://www.linkedin.com/jobs/view/research-as...</td>\n",
       "      <td>Agronomy, Animal Science, Farm Equipment Opera...</td>\n",
       "    </tr>\n",
       "    <tr>\n",
       "      <th>91</th>\n",
       "      <td>https://www.linkedin.com/jobs/view/production-...</td>\n",
       "      <td>Production, Trimming, Harvesting, Packaging, L...</td>\n",
       "    </tr>\n",
       "    <tr>\n",
       "      <th>449</th>\n",
       "      <td>https://ca.linkedin.com/jobs/view/senior-accou...</td>\n",
       "      <td>Senior Accountant, General Accounting, Financi...</td>\n",
       "    </tr>\n",
       "    <tr>\n",
       "      <th>1490</th>\n",
       "      <td>https://www.linkedin.com/jobs/view/manager-mai...</td>\n",
       "      <td>Farming, Food production, Warehouse experience...</td>\n",
       "    </tr>\n",
       "    <tr>\n",
       "      <th>3572</th>\n",
       "      <td>https://www.linkedin.com/jobs/view/part-time-c...</td>\n",
       "      <td>Customer service, Sales ability, Food preparat...</td>\n",
       "    </tr>\n",
       "    <tr>\n",
       "      <th>...</th>\n",
       "      <td>...</td>\n",
       "      <td>...</td>\n",
       "    </tr>\n",
       "    <tr>\n",
       "      <th>1292955</th>\n",
       "      <td>https://www.linkedin.com/jobs/view/fresh-marke...</td>\n",
       "      <td>Agriculture, Agronomy, Irrigation, Nutrient ma...</td>\n",
       "    </tr>\n",
       "    <tr>\n",
       "      <th>1293175</th>\n",
       "      <td>https://www.linkedin.com/jobs/view/part-time-l...</td>\n",
       "      <td>Agricultural Engineering, Mechanized Agricultu...</td>\n",
       "    </tr>\n",
       "    <tr>\n",
       "      <th>1294742</th>\n",
       "      <td>https://www.linkedin.com/jobs/view/production-...</td>\n",
       "      <td>Production Operations, Processing, Ingredient ...</td>\n",
       "    </tr>\n",
       "    <tr>\n",
       "      <th>1294752</th>\n",
       "      <td>https://www.linkedin.com/jobs/view/transmissio...</td>\n",
       "      <td>Vegetation Management, Forestry, Arboriculture...</td>\n",
       "    </tr>\n",
       "    <tr>\n",
       "      <th>1296285</th>\n",
       "      <td>https://www.linkedin.com/jobs/view/farm-superv...</td>\n",
       "      <td>Agriculture, Pesticides, RUP, WPS, SDS, Soil S...</td>\n",
       "    </tr>\n",
       "  </tbody>\n",
       "</table>\n",
       "<p>1486 rows × 2 columns</p>\n",
       "</div>"
      ],
      "text/plain": [
       "                                                  job_link  \\\n",
       "68       https://www.linkedin.com/jobs/view/research-as...   \n",
       "91       https://www.linkedin.com/jobs/view/production-...   \n",
       "449      https://ca.linkedin.com/jobs/view/senior-accou...   \n",
       "1490     https://www.linkedin.com/jobs/view/manager-mai...   \n",
       "3572     https://www.linkedin.com/jobs/view/part-time-c...   \n",
       "...                                                    ...   \n",
       "1292955  https://www.linkedin.com/jobs/view/fresh-marke...   \n",
       "1293175  https://www.linkedin.com/jobs/view/part-time-l...   \n",
       "1294742  https://www.linkedin.com/jobs/view/production-...   \n",
       "1294752  https://www.linkedin.com/jobs/view/transmissio...   \n",
       "1296285  https://www.linkedin.com/jobs/view/farm-superv...   \n",
       "\n",
       "                                                job_skills  \n",
       "68       Agronomy, Animal Science, Farm Equipment Opera...  \n",
       "91       Production, Trimming, Harvesting, Packaging, L...  \n",
       "449      Senior Accountant, General Accounting, Financi...  \n",
       "1490     Farming, Food production, Warehouse experience...  \n",
       "3572     Customer service, Sales ability, Food preparat...  \n",
       "...                                                    ...  \n",
       "1292955  Agriculture, Agronomy, Irrigation, Nutrient ma...  \n",
       "1293175  Agricultural Engineering, Mechanized Agricultu...  \n",
       "1294742  Production Operations, Processing, Ingredient ...  \n",
       "1294752  Vegetation Management, Forestry, Arboriculture...  \n",
       "1296285  Agriculture, Pesticides, RUP, WPS, SDS, Soil S...  \n",
       "\n",
       "[1486 rows x 2 columns]"
      ]
     },
     "execution_count": 4,
     "metadata": {},
     "output_type": "execute_result"
    }
   ],
   "source": [
    "jobs_data[~jobs_data['job_skills'].isna() & jobs_data['job_skills'].str.contains('agriculture', na=False, case=False)]"
   ]
  },
  {
   "cell_type": "code",
   "execution_count": 5,
   "id": "30bdf084-7755-4341-b7bd-8b6cf8aa093c",
   "metadata": {},
   "outputs": [
    {
     "data": {
      "text/plain": [
       "(1296381, 2)"
      ]
     },
     "execution_count": 5,
     "metadata": {},
     "output_type": "execute_result"
    }
   ],
   "source": [
    "jobs_data.shape"
   ]
  },
  {
   "cell_type": "code",
   "execution_count": 6,
   "id": "76cc4c7d-6e7c-43f5-b9b4-88b94f2dd19b",
   "metadata": {},
   "outputs": [
    {
     "data": {
      "text/html": [
       "<div>\n",
       "<style scoped>\n",
       "    .dataframe tbody tr th:only-of-type {\n",
       "        vertical-align: middle;\n",
       "    }\n",
       "\n",
       "    .dataframe tbody tr th {\n",
       "        vertical-align: top;\n",
       "    }\n",
       "\n",
       "    .dataframe thead th {\n",
       "        text-align: right;\n",
       "    }\n",
       "</style>\n",
       "<table border=\"1\" class=\"dataframe\">\n",
       "  <thead>\n",
       "    <tr style=\"text-align: right;\">\n",
       "      <th></th>\n",
       "      <th>job_link</th>\n",
       "      <th>job_skills</th>\n",
       "    </tr>\n",
       "  </thead>\n",
       "  <tbody>\n",
       "    <tr>\n",
       "      <th>185</th>\n",
       "      <td>https://www.linkedin.com/jobs/view/senior-soft...</td>\n",
       "      <td>Java, Linux, Docker, Kubernetes, AWS, Software...</td>\n",
       "    </tr>\n",
       "    <tr>\n",
       "      <th>387</th>\n",
       "      <td>https://www.linkedin.com/jobs/view/platform-en...</td>\n",
       "      <td>Software Development, Agile, ServiceNow, Incid...</td>\n",
       "    </tr>\n",
       "    <tr>\n",
       "      <th>408</th>\n",
       "      <td>https://uk.linkedin.com/jobs/view/software-eng...</td>\n",
       "      <td>C, C++, Java, SQL, JavaRx, LLDB, GDB, RDMA, Do...</td>\n",
       "    </tr>\n",
       "    <tr>\n",
       "      <th>1442</th>\n",
       "      <td>https://www.linkedin.com/jobs/view/prisma-clou...</td>\n",
       "      <td>Solutions Architect, DevOps Engineering, Prism...</td>\n",
       "    </tr>\n",
       "    <tr>\n",
       "      <th>1496</th>\n",
       "      <td>https://www.linkedin.com/jobs/view/senior-engi...</td>\n",
       "      <td>Cloud administration, Google Cloud Platform (G...</td>\n",
       "    </tr>\n",
       "    <tr>\n",
       "      <th>...</th>\n",
       "      <td>...</td>\n",
       "      <td>...</td>\n",
       "    </tr>\n",
       "    <tr>\n",
       "      <th>1295677</th>\n",
       "      <td>https://www.linkedin.com/jobs/view/senior-soft...</td>\n",
       "      <td>Software Engineering, Full Stack Development, ...</td>\n",
       "    </tr>\n",
       "    <tr>\n",
       "      <th>1295796</th>\n",
       "      <td>https://www.linkedin.com/jobs/view/staff-fulls...</td>\n",
       "      <td>Node.js, TypeScript, Software Development, RES...</td>\n",
       "    </tr>\n",
       "    <tr>\n",
       "      <th>1296029</th>\n",
       "      <td>https://uk.linkedin.com/jobs/view/backend-soft...</td>\n",
       "      <td>Python, Programming languages, Product shippin...</td>\n",
       "    </tr>\n",
       "    <tr>\n",
       "      <th>1296068</th>\n",
       "      <td>https://www.linkedin.com/jobs/view/senior-soft...</td>\n",
       "      <td>JavaScript, Java, Python, Go, TypeScript, SQL,...</td>\n",
       "    </tr>\n",
       "    <tr>\n",
       "      <th>1296211</th>\n",
       "      <td>https://ca.linkedin.com/jobs/view/analyste-sou...</td>\n",
       "      <td>Software architecture, Collaboration, Support,...</td>\n",
       "    </tr>\n",
       "  </tbody>\n",
       "</table>\n",
       "<p>6663 rows × 2 columns</p>\n",
       "</div>"
      ],
      "text/plain": [
       "                                                  job_link  \\\n",
       "185      https://www.linkedin.com/jobs/view/senior-soft...   \n",
       "387      https://www.linkedin.com/jobs/view/platform-en...   \n",
       "408      https://uk.linkedin.com/jobs/view/software-eng...   \n",
       "1442     https://www.linkedin.com/jobs/view/prisma-clou...   \n",
       "1496     https://www.linkedin.com/jobs/view/senior-engi...   \n",
       "...                                                    ...   \n",
       "1295677  https://www.linkedin.com/jobs/view/senior-soft...   \n",
       "1295796  https://www.linkedin.com/jobs/view/staff-fulls...   \n",
       "1296029  https://uk.linkedin.com/jobs/view/backend-soft...   \n",
       "1296068  https://www.linkedin.com/jobs/view/senior-soft...   \n",
       "1296211  https://ca.linkedin.com/jobs/view/analyste-sou...   \n",
       "\n",
       "                                                job_skills  \n",
       "185      Java, Linux, Docker, Kubernetes, AWS, Software...  \n",
       "387      Software Development, Agile, ServiceNow, Incid...  \n",
       "408      C, C++, Java, SQL, JavaRx, LLDB, GDB, RDMA, Do...  \n",
       "1442     Solutions Architect, DevOps Engineering, Prism...  \n",
       "1496     Cloud administration, Google Cloud Platform (G...  \n",
       "...                                                    ...  \n",
       "1295677  Software Engineering, Full Stack Development, ...  \n",
       "1295796  Node.js, TypeScript, Software Development, RES...  \n",
       "1296029  Python, Programming languages, Product shippin...  \n",
       "1296068  JavaScript, Java, Python, Go, TypeScript, SQL,...  \n",
       "1296211  Software architecture, Collaboration, Support,...  \n",
       "\n",
       "[6663 rows x 2 columns]"
      ]
     },
     "execution_count": 6,
     "metadata": {},
     "output_type": "execute_result"
    }
   ],
   "source": [
    "jobs_data[~jobs_data['job_skills'].isna() & jobs_data['job_skills'].str.contains('docker', na=False, case=False)]"
   ]
  },
  {
   "cell_type": "code",
   "execution_count": 3,
   "id": "e883ee81-3672-429f-bfd4-81f8796ea7ad",
   "metadata": {},
   "outputs": [],
   "source": [
    "df = jobs_data[~jobs_data['job_skills'].isna()]"
   ]
  },
  {
   "cell_type": "code",
   "execution_count": 4,
   "id": "369b1de6-31e2-4fb0-b96e-972b8720b142",
   "metadata": {},
   "outputs": [
    {
     "name": "stderr",
     "output_type": "stream",
     "text": [
      "C:\\Users\\rayen\\AppData\\Local\\Temp\\ipykernel_17052\\3107681920.py:1: SettingWithCopyWarning: \n",
      "A value is trying to be set on a copy of a slice from a DataFrame.\n",
      "Try using .loc[row_indexer,col_indexer] = value instead\n",
      "\n",
      "See the caveats in the documentation: https://pandas.pydata.org/pandas-docs/stable/user_guide/indexing.html#returning-a-view-versus-a-copy\n",
      "  df['job_skills'] = df['job_skills'].apply(lambda x : x.lower().strip())\n"
     ]
    }
   ],
   "source": [
    "df['job_skills'] = df['job_skills'].apply(lambda x : x.lower().strip())"
   ]
  },
  {
   "cell_type": "code",
   "execution_count": 6,
   "id": "4d28f48d-ebd1-4d43-974f-4b5eb435ed8b",
   "metadata": {},
   "outputs": [],
   "source": [
    "sample_data = df.sample(700000) "
   ]
  },
  {
   "cell_type": "code",
   "execution_count": 7,
   "id": "3271ee7f-6b0c-4b73-a806-d86a0c7db4d9",
   "metadata": {},
   "outputs": [
    {
     "data": {
      "text/html": [
       "<div>\n",
       "<style scoped>\n",
       "    .dataframe tbody tr th:only-of-type {\n",
       "        vertical-align: middle;\n",
       "    }\n",
       "\n",
       "    .dataframe tbody tr th {\n",
       "        vertical-align: top;\n",
       "    }\n",
       "\n",
       "    .dataframe thead th {\n",
       "        text-align: right;\n",
       "    }\n",
       "</style>\n",
       "<table border=\"1\" class=\"dataframe\">\n",
       "  <thead>\n",
       "    <tr style=\"text-align: right;\">\n",
       "      <th></th>\n",
       "      <th>job_link</th>\n",
       "      <th>job_skills</th>\n",
       "    </tr>\n",
       "  </thead>\n",
       "  <tbody>\n",
       "    <tr>\n",
       "      <th>830404</th>\n",
       "      <td>https://www.linkedin.com/jobs/view/professiona...</td>\n",
       "      <td>mongodb, customer success, sales, technical, c...</td>\n",
       "    </tr>\n",
       "    <tr>\n",
       "      <th>242128</th>\n",
       "      <td>https://www.linkedin.com/jobs/view/consulting-...</td>\n",
       "      <td>actuarial, pricing methodology, analytics, it,...</td>\n",
       "    </tr>\n",
       "    <tr>\n",
       "      <th>394466</th>\n",
       "      <td>https://www.linkedin.com/jobs/view/senior-soft...</td>\n",
       "      <td>software engineering, microservices, cloudnati...</td>\n",
       "    </tr>\n",
       "    <tr>\n",
       "      <th>946935</th>\n",
       "      <td>https://www.linkedin.com/jobs/view/full-stack-...</td>\n",
       "      <td>agile methodology, software development, web a...</td>\n",
       "    </tr>\n",
       "    <tr>\n",
       "      <th>868278</th>\n",
       "      <td>https://www.linkedin.com/jobs/view/sr-software...</td>\n",
       "      <td>c#, ms sql server, windows operating systems, ...</td>\n",
       "    </tr>\n",
       "    <tr>\n",
       "      <th>...</th>\n",
       "      <td>...</td>\n",
       "      <td>...</td>\n",
       "    </tr>\n",
       "    <tr>\n",
       "      <th>9106</th>\n",
       "      <td>https://uk.linkedin.com/jobs/view/senior-java-...</td>\n",
       "      <td>java, j2ee, spring framework, jdbc, sql, xml, ...</td>\n",
       "    </tr>\n",
       "    <tr>\n",
       "      <th>504940</th>\n",
       "      <td>https://www.linkedin.com/jobs/view/senior-data...</td>\n",
       "      <td>python, linux, sql, vertica, mysql, etl, jira,...</td>\n",
       "    </tr>\n",
       "    <tr>\n",
       "      <th>1242436</th>\n",
       "      <td>https://ca.linkedin.com/jobs/view/technical-an...</td>\n",
       "      <td>sql, cloud infrastructure, relational database...</td>\n",
       "    </tr>\n",
       "    <tr>\n",
       "      <th>673276</th>\n",
       "      <td>https://www.linkedin.com/jobs/view/technical-p...</td>\n",
       "      <td>data privacy, data platform, data governance, ...</td>\n",
       "    </tr>\n",
       "    <tr>\n",
       "      <th>976023</th>\n",
       "      <td>https://www.linkedin.com/jobs/view/senior-anal...</td>\n",
       "      <td>contact center as a service (ccaas), amazon co...</td>\n",
       "    </tr>\n",
       "  </tbody>\n",
       "</table>\n",
       "<p>16848 rows × 2 columns</p>\n",
       "</div>"
      ],
      "text/plain": [
       "                                                  job_link  \\\n",
       "830404   https://www.linkedin.com/jobs/view/professiona...   \n",
       "242128   https://www.linkedin.com/jobs/view/consulting-...   \n",
       "394466   https://www.linkedin.com/jobs/view/senior-soft...   \n",
       "946935   https://www.linkedin.com/jobs/view/full-stack-...   \n",
       "868278   https://www.linkedin.com/jobs/view/sr-software...   \n",
       "...                                                    ...   \n",
       "9106     https://uk.linkedin.com/jobs/view/senior-java-...   \n",
       "504940   https://www.linkedin.com/jobs/view/senior-data...   \n",
       "1242436  https://ca.linkedin.com/jobs/view/technical-an...   \n",
       "673276   https://www.linkedin.com/jobs/view/technical-p...   \n",
       "976023   https://www.linkedin.com/jobs/view/senior-anal...   \n",
       "\n",
       "                                                job_skills  \n",
       "830404   mongodb, customer success, sales, technical, c...  \n",
       "242128   actuarial, pricing methodology, analytics, it,...  \n",
       "394466   software engineering, microservices, cloudnati...  \n",
       "946935   agile methodology, software development, web a...  \n",
       "868278   c#, ms sql server, windows operating systems, ...  \n",
       "...                                                    ...  \n",
       "9106     java, j2ee, spring framework, jdbc, sql, xml, ...  \n",
       "504940   python, linux, sql, vertica, mysql, etl, jira,...  \n",
       "1242436  sql, cloud infrastructure, relational database...  \n",
       "673276   data privacy, data platform, data governance, ...  \n",
       "976023   contact center as a service (ccaas), amazon co...  \n",
       "\n",
       "[16848 rows x 2 columns]"
      ]
     },
     "execution_count": 7,
     "metadata": {},
     "output_type": "execute_result"
    }
   ],
   "source": [
    "sample_data[sample_data['job_skills'].str.contains('sql',case=False)]"
   ]
  },
  {
   "cell_type": "code",
   "execution_count": 8,
   "id": "2c53d40a-85bd-453a-bd17-73bd67eef24e",
   "metadata": {},
   "outputs": [
    {
     "name": "stderr",
     "output_type": "stream",
     "text": [
      "C:\\Users\\rayen\\Desktop\\programming\\big_data\\torch_env\\Lib\\site-packages\\sklearn\\feature_extraction\\text.py:525: UserWarning: The parameter 'token_pattern' will not be used since 'tokenizer' is not None'\n",
      "  warnings.warn(\n"
     ]
    }
   ],
   "source": [
    "from sklearn.feature_extraction.text import TfidfVectorizer\n",
    "from sklearn.decomposition import NMF\n",
    "import re\n",
    "from nltk.tokenize import word_tokenize\n",
    "from nltk.corpus import stopwords  \n",
    "import string\n",
    "\n",
    "stop_words = set(stopwords.words('english'))\n",
    "def custom_tokenizer(text):\n",
    "    text = text.lower()  # Convert to lowercase\n",
    "    # Remove punctuation\n",
    "    text = ''.join(c for c in text if c not in string.punctuation)\n",
    "    # Remove numbers (optional)\n",
    "    remove_numbers = True  # Set to False to keep numbers\n",
    "    if remove_numbers:\n",
    "        text = ''.join(c for c in text if c not in string.digits)\n",
    "    words = word_tokenize(text)\n",
    "    # Filter out stopwords (if using a custom list)\n",
    "    if stop_words:\n",
    "        words = [word for word in words if word not in stop_words]\n",
    "    return words\n",
    "    \n",
    "vectorizer = TfidfVectorizer(tokenizer=custom_tokenizer)\n",
    "\n",
    "tfidf_matrix = vectorizer.fit_transform(df['job_skills'])\n",
    "\n",
    "\n"
   ]
  },
  {
   "cell_type": "code",
   "execution_count": 9,
   "id": "85c57230-4f1a-42f8-a9b8-faf9929df1b6",
   "metadata": {},
   "outputs": [
    {
     "name": "stdout",
     "output_type": "stream",
     "text": [
      "Topic 0: management, time, budget, inventory, vendor, performance, change, case, supply, contract, risk, chain, procurement, people, stakeholder, resource, logistics, supplier, property, budgeting, stress, order, kpi, organization, purchasing\n",
      "Topic 1: care, home, acute, hospice, clinical, wound, palliative, compassion, intensive, primary, unit, coordination, critical, services, interdisciplinary, compassionate, patientcentered, case, plans, urgent, hospital, endoflife, empathy, rehabilitation, resident\n",
      "Topic 2: ability, independently, meet, handle, deadlines, part, pressure, follow, learn, use, lift, communicate, work, maintain, instructions, effectively, perform, manage, adapt, tasks, multiple, multitask, operate, strong, read\n",
      "Topic 3: food, preparation, sanitation, kitchen, cooking, culinary, menu, hygiene, cleaning, beverage, service, servsafe, haccp, handler, catering, teamwork, storage, recipe, safety, chef, handling, cleanliness, handlers, serving, permit\n",
      "Topic 4: insurance, vision, dental, life, disability, k, accident, reimbursement, spending, bonus, pet, shortterm, malpractice, liability, longterm, illness, account, term, casualty, licensure, match, accounts, assistance, continuing, vacation\n",
      "Topic 5: control, inventory, cost, infection, expense, quality, shrinkage, profitability, stock, loss, staff, prevention, supervision, warehouse, labor, budgeting, receiving, document, ladders, shipping, accountability, hiring, game, ordering, video\n",
      "Topic 6: skills, interpersonal, organizational, analytical, communication, strong, presentation, problemsolving, excellent, mathematical, abilities, pc, prioritization, math, administrative, listening, decisionmaking, motivational, time, attitude, selfmotivation, detailoriented, commitment, reasoning, selfstarter\n",
      "Topic 7: cash, planogram, register, merchandise, mathematical, supervisory, calculations, cashier, store, implementation, cleaning, operation, stocking, ibm, policies, practices, stocker, functions, accountability, deposit, safety, planograms, opening, merchandising, noise\n",
      "Topic 8: accounting, finance, cpa, accounts, gaap, audit, reporting, auditing, ledger, payable, general, reconciliation, payroll, internal, principles, statements, receivable, public, entries, journal, excel, erp, quickbooks, reconciliations, cost\n",
      "Topic 9: nursing, practice, clinical, medicalsurgical, bsn, licensure, cpr, bachelor, professional, assessment, accredited, process, license, evidencebased, evaluation, associates, registered, dialysis, standards, improvement, implementation, delegation, state, science, oncology\n",
      "Topic 10: service, customer, communication, entry, event, multitasking, order, focus, math, processing, hospitality, telephone, advisor, availability, call, etiquette, phone, cleaning, upselling, leasing, banking, billing, warranty, collections, center\n",
      "Topic 11: plan, coverage, retirement, savings, k, stock, purchase, opportunities, benefit, flexible, continuing, employee, prep, flexibleremote, block, irs, education, spending, course, remote, requirements, income, schedule, marketing, preparation\n",
      "Topic 12: office, microsoft, suite, entry, google, administrative, windows, crm, multitasking, administration, communication, adobe, travel, organization, filing, applications, typing, email, autocad, clerical, internet, proficient, property, time, phone\n",
      "Topic 13: tax, preparation, income, irs, block, returns, course, hr, client, requirements, state, marketing, continuing, cpa, taxation, benefit, laws, purchase, prep, collaboration, teamwork, flexibleremote, interviews, expertise, season\n",
      "Topic 14: benefits, vision, dental, bonus, pay, retirement, package, k, referral, medical, holiday, compensation, salary, programs, competitive, reimbursement, wellness, mileage, nih, weekly, company, life, discount, commission, tncc\n",
      "Topic 15: detail, attention, multitasking, time, accuracy, organization, organizational, flexibility, initiative, stamina, prioritization, professionalism, independently, pressure, attitude, orientation, ethic, player, selfmotivation, confidentiality, deadlines, oriented, positive, strong, reliability\n",
      "Topic 16: sales, crm, account, customer, negotiation, prospecting, generation, selling, lead, product, bb, market, territory, consultative, presentation, forecasting, salesforce, calling, targets, marketing, relationship, cold, pipeline, presentations, closing\n",
      "Topic 17: license, drivers, valid, state, heights, travel, home, transportation, reliable, vehicle, rapport, heavy, automobile, auto, aptitude, dea, property, driver, ladder, lifting, installation, active, california, direct, smart\n",
      "Topic 18: engineering, civil, mechanical, structural, autocad, engineer, pe, science, environmental, water, chemical, geotechnical, cad, professional, technical, industrial, microstation, wastewater, aerospace, modeling, calculations, projects, clearance, land, eit\n",
      "Topic 19: data, entry, analytics, visualization, sql, tableau, collection, bi, intelligence, reporting, modeling, python, r, mining, database, statistical, power, machine, warehousing, etl, processing, statistics, science, governance, learning\n",
      "Topic 20: problem, solving, teamwork, communication, adaptability, time, flexibility, organization, initiative, multitasking, analytical, listening, active, leadership, collaboration, troubleshooting, creativity, innovation, thinking, cashiering, prioritization, oriented, selfmotivation, empathy, patience\n",
      "Topic 21: counseling, social, mental, psychology, treatment, crisis, services, intervention, case, clinical, family, behavioral, substance, marriage, abuse, assessment, psychotherapy, licensed, masters, counselor, supervision, group, lmft, lcsw, individual\n",
      "Topic 22: physician, job, cv, search, career, alerts, profile, credentials, matching, confidentiality, professional, assistant, email, information, practice, fulltime, family, support, healthcare, preferences, dream, pa, practitioner, yearly, page\n",
      "Topic 23: cosmetology, barber, license, hair, attitude, salon, flexibility, styling, positive, haircutting, cutting, barbering, incentives, base, organization, recognition, hairstyling, ongoing, motivating, goaloriented, technical, manager, motivation, career, goal\n",
      "Topic 24: laboratory, clinical, science, chemistry, technology, ascp, research, biology, scientist, microbiology, lab, hematology, blood, technologist, clia, specimen, amt, biological, information, molecular, technician, chemical, instrumentation, phlebotomy, troubleshooting\n",
      "Topic 25: certification, cpr, bls, licensure, first, aid, board, servsafe, national, state, license, specialty, reimbursement, acls, osha, pmp, cpraed, dea, arrt, aed, handlers, program, assistant, fitness, nrp\n",
      "Topic 26: construction, commercial, site, scheduling, estimating, contract, civil, subcontractor, codes, drawings, osha, specifications, building, cost, inspection, field, superintendent, projects, procore, concrete, documents, materials, architecture, plans, material\n",
      "Topic 27: years, related, preferred, field, strong, age, minimum, relevant, two, excellent, game, old, video, experience, older, least, loss, enthusiastic, early, prevention, personality, fun, ’, andor, working\n",
      "Topic 28: legal, law, litigation, research, bar, drafting, case, negotiation, estate, writing, trial, juris, contract, client, court, jd, real, doctor, advocacy, commercial, corporate, admission, property, discovery, employment\n",
      "Topic 29: lifting, standing, walking, bending, stooping, reaching, climbing, kneeling, exposure, pushing, pulling, carrying, crouching, noise, sitting, stretching, conditions, weather, vision, moving, chemicals, squatting, hearing, frequent, twisting\n",
      "Topic 30: lift, objects, stand, heavy, ability, periods, long, pounds, walk, bend, carry, reach, climb, grasp, lbs, manipulate, cashiering, push, heights, pull, ladder, extended, twist, move, waist\n",
      "Topic 31: maintenance, repair, preventative, troubleshooting, hvac, preventive, cleaning, property, plumbing, facility, mechanical, repairs, supervision, cmms, carpentry, painting, plant, facilities, predictive, inspections, aircraft, equipment, order, housekeeping, reliability\n",
      "Topic 32: knowledge, product, industry, operational, merchandising, coaching, menu, beverage, game, parts, market, video, techniques, products, delivery, wine, beauty, decisionmaking, loading, customer, trends, understanding, loyalty, order, pricing\n",
      "Topic 33: safety, regulations, osha, environmental, incident, protocols, fire, occupational, hazard, ehs, standards, investigation, hygiene, awareness, inspections, communication, first, aid, emergency, site, industrial, workplace, waste, reporting, radiation\n",
      "Topic 34: program, employee, assistance, plans, programs, tuition, discounts, reimbursement, disability, discount, wellness, stock, bonus, theft, purchase, accounts, identity, welfare, annual, spending, loan, protection, meat, retirement, illness\n",
      "Topic 35: support, life, basic, advanced, cardiac, pediatric, administrative, resuscitation, american, cardiovascular, heart, association, neonatal, emotional, provider, aha, course, trauma, coordination, associate, pals, windows, math, respiratory, bls\n",
      "Topic 36: work, team, flexible, ethic, independently, schedule, social, remote, independent, shift, pressure, strong, weekends, part, hours, weekend, hybrid, us, authorization, overtime, willingness, deadlines, heavy, england, holidays\n",
      "Topic 37: scheduling, inventory, production, crew, cleanliness, daily, exceptional, internal, flexible, managing, schedule, food, coverage, leadership, communication, college, security, assistance, connection, awards, hiring, second, tuition, passion, leaves\n",
      "Topic 38: nurse, registered, practitioner, unit, licensed, practical, televisits, intensive, manager, room, assistant, icu, emergency, practice, advanced, certified, loan, license, current, state, shift, provider, reimbursement, credentialing, charge\n",
      "Topic 39: cloud, aws, agile, azure, java, sql, python, kubernetes, javascript, computing, services, docker, devops, nosql, architecture, c, go, source, microservices, server, web, frameworks, gcp, open, linux\n",
      "Topic 40: marketing, media, social, content, digital, advertising, creative, communications, analytics, campaign, google, strategy, creation, brand, relations, seo, editing, public, event, adobe, email, video, website, campaigns, market\n",
      "Topic 41: school, high, diploma, ged, equivalent, college, cashiering, diplomaged, preferred, year, associates, irs, entry, associate, lbs, assistant, requirements, hours, months, administrative, communication, general, game, course, drivers\n",
      "Topic 42: systems, pos, system, information, erp, fire, epic, operating, electronic, integration, hvac, pointofsale, point, sale, alarm, distributed, requirements, programming, hardware, automation, hydraulic, embedded, air, corporation, controls\n",
      "Topic 43: development, professional, learning, staff, policy, product, career, curriculum, growth, collaboration, child, opportunities, mentoring, strategy, web, agile, scheme, talent, engagement, continuous, procedure, salary, new, performance, pension\n",
      "Topic 44: degree, bachelors, masters, associates, associate, related, field, college, preferred, science, clearance, us, ’, relevant, pharmacy, advanced, secret, doctoral, citizenship, doctorate, university, finance, certified, phd, logistics\n",
      "Topic 45: health, mental, home, behavioral, electronic, allied, public, records, promotion, wellness, community, medication, assessments, professional, occupational, ehr, psychiatry, programs, psychiatric, disease, administration, act, environmental, wellbeing, population\n",
      "Topic 46: computer, basic, literacy, math, science, internet, applications, proficiency, skills, information, processing, mathematics, system, reading, technology, typing, entry, organization, usage, telephone, phone, use, email, schooling, programming\n",
      "Topic 47: training, supervision, hiring, coaching, staff, performance, fitness, manager, personal, recognition, ongoing, motivation, incentives, exercise, athletic, evaluation, orientation, base, goal, aid, first, recruitment, cpr, programs, mentoring\n",
      "Topic 48: design, architecture, autocad, revit, adobe, cad, product, graphic, user, creative, interior, architectural, modeling, standards, structural, prototyping, layout, photoshop, specifications, ux, digital, circuit, codes, illustrator, drawings\n",
      "Topic 49: planning, event, strategic, assessment, discharge, evaluation, coordination, implementation, math, organization, treatment, resource, execution, collaboration, public, organizing, lesson, forecasting, menu, supply, communication, estate, demand, succession, supervision\n",
      "Topic 50: medicine, board, veterinary, internal, doctor, surgery, family, emergency, physician, residency, dea, cme, md, practice, malpractice, certified, eligible, animal, primary, osteopathic, emr, nuclear, outpatient, clinical, cardiology\n",
      "Topic 51: opportunity, equal, employer, employment, action, affirmative, reasonable, accommodation, workplace, opportunities, accommodations, disability, nondiscrimination, everify, illness, diem, disabilities, competitive, eeo, drugfree, meat, compensation, wages, advancement, inclusive\n",
      "Topic 52: patient, medication, administration, education, assessment, documentation, care, cpr, treatment, monitoring, clinical, collaboration, infection, evaluation, vital, signs, discharge, improvement, advocacy, collection, practice, bls, communication, coordination, interdisciplinary\n",
      "Topic 53: manufacturing, process, production, improvement, lean, continuous, sigma, six, supply, chain, sap, erp, processes, assembly, material, iso, industrial, supplier, cause, optimization, root, product, logistics, gmp, mechanical\n",
      "Topic 54: relationship, building, client, account, negotiation, crm, services, industry, market, generation, networking, prospecting, lead, presentation, relationships, commercial, strategic, communication, investment, codes, calling, energy, salesforce, consultative, cold\n",
      "Topic 55: experience, supervisory, year, industry, retail, previous, setting, prior, one, months, acute, managerial, hospital, registration, working, supervisor, equivalent, handson, role, specialty, andor, leading, relevant, understanding, developing\n",
      "Topic 56: pay, housing, bonuses, referral, weekly, reimbursement, options, stipend, shift, guaranteed, k, extra, pto, bonus, jacho, holiday, travel, cost, prestigious, vision, facilities, certified, dental, plan, certifications\n",
      "Topic 57: physical, stamina, strength, fitness, demands, requirements, endurance, pos, therapist, flexibility, dexterity, abilities, stocking, lifting, availability, rehabilitation, acuity, communication, cleaning, mobility, activity, exercise, examination, tolerance, labor\n",
      "Topic 58: project, management, risk, change, ms, cost, scheduling, coordination, stakeholder, contract, pmp, budget, budgeting, reporting, execution, resource, primavera, scope, projects, communication, tracking, estimating, collaboration, delivery, procurement\n",
      "Topic 59: financial, reporting, budgeting, forecasting, investment, services, banking, statements, modeling, finance, credit, series, budget, statement, variance, estate, cfp, capital, risk, performance, flow, products, portfolio, controls, wealth\n",
      "Topic 60: software, hardware, c, programming, processing, applications, spreadsheet, database, architecture, embedded, tools, agile, crm, debugging, coding, objectoriented, integration, property, configuration, languages, linux, deployment, application, enterprise, troubleshooting\n",
      "Topic 61: excel, word, microsoft, outlook, powerpoint, ms, access, processing, teams, sap, sharepoint, internet, multitasking, prioritization, organization, power, windows, point, email, visio, administrative, applications, database, adobe, spreadsheet\n",
      "Topic 62: leadership, team, coaching, motivation, player, communication, collaboration, mentoring, performance, building, operational, delegation, budgeting, supervision, decisionmaking, math, member, feedback, clinical, people, multidisciplinary, acumen, kpi, problemsolving, improvement\n",
      "Topic 63: radiology, imaging, ct, radiologic, arrt, technologist, radiation, technology, radiography, mri, xray, american, diagnostic, registry, tomography, pacs, bls, ultrasound, computed, nuclear, technologists, interventional, fluoroscopy, image, allied\n",
      "Topic 64: retail, merchandising, inventory, store, loss, pos, prevention, visual, math, sales, stocking, fashion, game, stock, finance, video, lifting, bilingual, grocery, basic, flexible, pointofsale, sale, merchandise, enthusiastic\n",
      "Topic 65: tutoring, learning, classes, online, live, instant, small, ai, large, group, platform, science, personalization, adaptive, subjectmatter, expertise, assessments, lesson, personalized, personality, machine, technology, nclexrn, friendly, communication\n",
      "Topic 66: paid, time, leave, holidays, k, vacation, sick, company, flexible, parental, dental, tuition, disability, discounts, vision, match, opportunities, days, competitive, savings, reimbursement, career, life, pto, advancement\n",
      "Topic 67: surgical, technologist, room, sterile, technology, operating, certified, technician, surgery, aseptic, technique, cst, instruments, tech, sterilization, bls, perioperative, supplies, scrub, instrumentation, nbstsa, instrument, allied, techniques, national\n",
      "Topic 68: written, verbal, communication, oral, interpersonal, multitasking, strong, organization, prioritization, excellent, listening, independent, instructions, effective, detailoriented, comprehension, orientation, pc, relationships, acuity, judgment, visual, office, transportation, transporting\n",
      "Topic 69: check, background, drug, criminal, screening, screen, test, vaccination, preemployment, child, covid, checks, pass, history, music, police, clearance, references, investigation, aid, us, working, children, abuse, first\n",
      "Topic 70: medical, records, terminology, electronic, assistant, emr, hipaa, record, coding, billing, vision, board, history, ehr, practitioner, diagnostic, epic, device, license, imaging, tests, hospital, phlebotomy, residency, dea\n",
      "Topic 71: handling, cash, banking, ada, guest, schedule, flexible, merchandise, inventory, register, material, animal, pointofsale, regular, processing, multitasking, attendance, target, ibm, complaint, pos, app, adaptability, transactions, credit\n",
      "Topic 72: healthcare, staffing, travel, diem, professionals, hospital, contracts, allied, provider, recruitment, industry, providers, transparency, uk, recruiters, facilities, placement, blue, pharmacy, regulations, compensation, great, pipes, traveler, joint\n",
      "Topic 73: business, administration, acumen, strategic, negotiation, finance, strategy, process, intelligence, industry, analytical, supply, requirements, chain, market, presentation, analytics, consulting, technology, contract, account, sap, solutions, stakeholder, commercial\n",
      "Topic 74: travel, hours, per, week, shifts, hour, allied, weeks, technologist, taxfree, stipend, pay, staffing, professional, ct, job, duration, days, cath, reimbursement, diem, night, bonus, lab, nights\n",
      "Topic 75: thinking, critical, collaboration, analytical, strategic, ethics, professionalism, empathy, compassion, pc, excellence, creative, research, stress, judgment, terminology, epic, evidencebased, acuity, cultural, documentation, monitoring, time, interpersonal, illness\n",
      "Topic 76: driving, record, clean, keeping, vehicle, uk, weather, conditions, heights, travel, delivery, installation, heavy, lifting, valid, loading, safe, rapport, electronic, working, ladder, climbing, ppe, aptitude, licence\n",
      "Topic 77: quality, assurance, improvement, inspection, standards, iso, audits, corrective, performance, action, continuous, practice, supplier, cause, root, control, auditing, actions, review, gmp, documentation, statistical, qms, supervision, evidencebased\n",
      "Topic 78: restaurant, hospitality, guest, beverage, staff, satisfaction, dining, service, front, shift, hotel, table, hiring, food, room, house, pos, servsafe, manager, retail, casual, cleanliness, management, drivethru, attendant\n",
      "Topic 79: electrical, power, troubleshooting, mechanical, plc, plumbing, hvac, installation, tools, schematics, industrial, wiring, distribution, controls, drawings, voltage, programming, repair, codes, diagrams, energy, electrician, automation, lighting, instrumentation\n",
      "Topic 80: resolution, conflict, time, scheduling, budgeting, stress, hiring, negotiation, adaptability, supervision, performance, coaching, decisionmaking, listening, delegation, motivation, building, problem, issue, cultural, alcohol, dispute, active, interpersonal, crisis\n",
      "Topic 81: dentistry, dental, surgery, oral, general, dds, dmd, endodontics, restorative, treatment, practice, clinical, availability, vision, weekend, mobile, continuing, exams, military, active, state, digital, hygiene, doctor, k\n",
      "Topic 82: equipment, operation, forklift, warehouse, material, protective, personal, tools, kitchen, inspection, reading, supplies, machine, hand, ppe, cleaning, shipping, usage, heavy, materials, use, troubleshooting, machinery, mechanical, welding\n",
      "Topic 83: making, decision, schedule, flexible, merchandise, adaptability, pos, ada, guest, flexibility, stocking, job, equivalent, focus, datadriven, relationship, shelves, unloading, results, target, attendance, lifting, loading, regular, technology\n",
      "Topic 84: english, proficiency, language, spanish, fluency, french, bilingual, second, certificate, spoken, ppd, vaccination, citizenship, college, chest, bilingualism, speech, reading, us, card, xray, awards, covid, hipaa, preferred\n",
      "Topic 85: technical, writing, report, research, public, proposal, environmental, grant, speaking, documentation, editing, reading, scientific, field, expertise, presentation, troubleshooting, reports, requirements, communications, clearance, presentations, support, manuals, content\n",
      "Topic 86: analysis, forecasting, research, market, statistical, cause, root, reporting, cost, analytical, risk, presentation, variance, process, data, quantitative, pricing, trend, collaboration, strategic, budgeting, excel, behavior, modeling, performance\n",
      "Topic 87: compliance, regulatory, risk, policy, environmental, regulations, audit, assessment, reporting, hipaa, standards, pharmacy, auditing, osha, ada, procedure, banking, audits, supervision, monitoring, documentation, federal, laws, incident, review\n",
      "Topic 88: environment, fastpaced, safe, positive, passion, attitude, noise, collaborative, team, player, multitasking, supportive, dynamic, inclusive, working, work, diverse, paced, weather, irs, growth, level, fast, opportunities, learn\n",
      "Topic 89: therapy, occupational, therapist, family, marriage, treatment, rehabilitation, documentation, speech, respiratory, individual, lmft, physical, assistant, cognitive, masters, state, dialectical, progress, professional, empathy, group, teletherapy, cbt, couples\n",
      "Topic 90: automotive, repair, vehicle, technician, ase, tools, certifications, parts, tire, inspection, mechanic, auto, suspension, brakes, diagnostics, inspector, industry, installation, inspections, technical, certificatedegree, scheduled, mechanical, guest, repairs\n",
      "Topic 91: procedures, policies, standards, operating, company, standard, regulations, practices, guidelines, federal, laws, state, emergency, programs, processes, rules, reports, techniques, adherence, maintaining, requirements, hospital, sops, staff, activities\n",
      "Topic 92: operations, store, warehouse, supervision, logistics, front, hotel, hiring, desk, center, distribution, plant, supply, chain, execution, asset, decisionmaking, kitchen, freight, staff, performance, forklift, calculator, floor, shipping\n",
      "Topic 93: teamwork, problemsolving, communication, adaptability, flexibility, time, decisionmaking, leadership, initiative, professionalism, empathy, compassion, multitasking, integrity, patience, organization, listening, ethics, stress, motivation, creativity, detailoriented, reliability, learn, willingness\n",
      "Topic 94: education, teaching, curriculum, research, student, early, classroom, child, childhood, continuing, lesson, learning, special, educational, assessment, instruction, childcare, collaboration, teacher, instructional, aid, behavior, academic, first, professional\n",
      "Topic 95: rn, bls, acls, pals, license, bsn, aha, tncc, icu, telemetry, nrp, american, heart, nihss, association, acute, compact, critical, nih, emergency, stroke, medsurg, active, hospital, ccrn\n",
      "Topic 96: testing, test, system, requirements, integration, documentation, user, automation, functional, unit, api, validation, acceptance, automated, agile, inspection, application, verification, gathering, troubleshooting, configuration, qa, regression, defect, jira\n",
      "Topic 97: diversity, inclusion, equity, collaboration, cultural, research, engagement, innovation, community, awareness, integrity, equality, ethics, worklife, commitment, talent, balance, culture, belonging, learning, opportunities, respect, sustainability, growth, sensitivity\n",
      "Topic 98: security, network, information, clearance, cybersecurity, incident, system, cyber, risk, infrastructure, access, dod, response, threat, vulnerability, cloud, secret, networking, windows, us, cisco, cissp, architecture, technology, nist\n",
      "Topic 99: human, resources, relations, hr, employee, performance, payroll, talent, recruitment, administration, labor, compensation, employment, hris, recruiting, onboarding, laws, acquisition, organizational, interviewing, engagement, policy, hiring, workforce, generalist\n"
     ]
    },
    {
     "ename": "ValueError",
     "evalue": "Length of values (1294296) does not match length of index (700000)",
     "output_type": "error",
     "traceback": [
      "\u001b[1;31m---------------------------------------------------------------------------\u001b[0m",
      "\u001b[1;31mValueError\u001b[0m                                Traceback (most recent call last)",
      "Cell \u001b[1;32mIn[9], line 16\u001b[0m\n\u001b[0;32m     13\u001b[0m   \u001b[38;5;28mprint\u001b[39m(\u001b[38;5;124mf\u001b[39m\u001b[38;5;124m\"\u001b[39m\u001b[38;5;124mTopic \u001b[39m\u001b[38;5;132;01m{\u001b[39;00mtopic_idx\u001b[38;5;132;01m}\u001b[39;00m\u001b[38;5;124m: \u001b[39m\u001b[38;5;132;01m{\u001b[39;00m\u001b[38;5;124m'\u001b[39m\u001b[38;5;124m, \u001b[39m\u001b[38;5;124m'\u001b[39m\u001b[38;5;241m.\u001b[39mjoin(top_features)\u001b[38;5;132;01m}\u001b[39;00m\u001b[38;5;124m\"\u001b[39m)\n\u001b[0;32m     15\u001b[0m \u001b[38;5;66;03m# Step 7: Assign Topics to Jobs\u001b[39;00m\n\u001b[1;32m---> 16\u001b[0m \u001b[43msample_data\u001b[49m\u001b[43m[\u001b[49m\u001b[38;5;124;43m'\u001b[39;49m\u001b[38;5;124;43mtop_topics\u001b[39;49m\u001b[38;5;124;43m'\u001b[39;49m\u001b[43m]\u001b[49m \u001b[38;5;241m=\u001b[39m W\u001b[38;5;241m.\u001b[39margmax(axis\u001b[38;5;241m=\u001b[39m\u001b[38;5;241m1\u001b[39m)\n\u001b[0;32m     17\u001b[0m \u001b[38;5;28mprint\u001b[39m(sample_data[[\u001b[38;5;124m'\u001b[39m\u001b[38;5;124mjob_skills\u001b[39m\u001b[38;5;124m'\u001b[39m, \u001b[38;5;124m'\u001b[39m\u001b[38;5;124mtop_topics\u001b[39m\u001b[38;5;124m'\u001b[39m]])\n",
      "File \u001b[1;32m~\\Desktop\\programming\\big_data\\torch_env\\Lib\\site-packages\\pandas\\core\\frame.py:4311\u001b[0m, in \u001b[0;36mDataFrame.__setitem__\u001b[1;34m(self, key, value)\u001b[0m\n\u001b[0;32m   4308\u001b[0m     \u001b[38;5;28mself\u001b[39m\u001b[38;5;241m.\u001b[39m_setitem_array([key], value)\n\u001b[0;32m   4309\u001b[0m \u001b[38;5;28;01melse\u001b[39;00m:\n\u001b[0;32m   4310\u001b[0m     \u001b[38;5;66;03m# set column\u001b[39;00m\n\u001b[1;32m-> 4311\u001b[0m     \u001b[38;5;28;43mself\u001b[39;49m\u001b[38;5;241;43m.\u001b[39;49m\u001b[43m_set_item\u001b[49m\u001b[43m(\u001b[49m\u001b[43mkey\u001b[49m\u001b[43m,\u001b[49m\u001b[43m \u001b[49m\u001b[43mvalue\u001b[49m\u001b[43m)\u001b[49m\n",
      "File \u001b[1;32m~\\Desktop\\programming\\big_data\\torch_env\\Lib\\site-packages\\pandas\\core\\frame.py:4524\u001b[0m, in \u001b[0;36mDataFrame._set_item\u001b[1;34m(self, key, value)\u001b[0m\n\u001b[0;32m   4514\u001b[0m \u001b[38;5;28;01mdef\u001b[39;00m \u001b[38;5;21m_set_item\u001b[39m(\u001b[38;5;28mself\u001b[39m, key, value) \u001b[38;5;241m-\u001b[39m\u001b[38;5;241m>\u001b[39m \u001b[38;5;28;01mNone\u001b[39;00m:\n\u001b[0;32m   4515\u001b[0m \u001b[38;5;250m    \u001b[39m\u001b[38;5;124;03m\"\"\"\u001b[39;00m\n\u001b[0;32m   4516\u001b[0m \u001b[38;5;124;03m    Add series to DataFrame in specified column.\u001b[39;00m\n\u001b[0;32m   4517\u001b[0m \n\u001b[1;32m   (...)\u001b[0m\n\u001b[0;32m   4522\u001b[0m \u001b[38;5;124;03m    ensure homogeneity.\u001b[39;00m\n\u001b[0;32m   4523\u001b[0m \u001b[38;5;124;03m    \"\"\"\u001b[39;00m\n\u001b[1;32m-> 4524\u001b[0m     value, refs \u001b[38;5;241m=\u001b[39m \u001b[38;5;28;43mself\u001b[39;49m\u001b[38;5;241;43m.\u001b[39;49m\u001b[43m_sanitize_column\u001b[49m\u001b[43m(\u001b[49m\u001b[43mvalue\u001b[49m\u001b[43m)\u001b[49m\n\u001b[0;32m   4526\u001b[0m     \u001b[38;5;28;01mif\u001b[39;00m (\n\u001b[0;32m   4527\u001b[0m         key \u001b[38;5;129;01min\u001b[39;00m \u001b[38;5;28mself\u001b[39m\u001b[38;5;241m.\u001b[39mcolumns\n\u001b[0;32m   4528\u001b[0m         \u001b[38;5;129;01mand\u001b[39;00m value\u001b[38;5;241m.\u001b[39mndim \u001b[38;5;241m==\u001b[39m \u001b[38;5;241m1\u001b[39m\n\u001b[0;32m   4529\u001b[0m         \u001b[38;5;129;01mand\u001b[39;00m \u001b[38;5;129;01mnot\u001b[39;00m \u001b[38;5;28misinstance\u001b[39m(value\u001b[38;5;241m.\u001b[39mdtype, ExtensionDtype)\n\u001b[0;32m   4530\u001b[0m     ):\n\u001b[0;32m   4531\u001b[0m         \u001b[38;5;66;03m# broadcast across multiple columns if necessary\u001b[39;00m\n\u001b[0;32m   4532\u001b[0m         \u001b[38;5;28;01mif\u001b[39;00m \u001b[38;5;129;01mnot\u001b[39;00m \u001b[38;5;28mself\u001b[39m\u001b[38;5;241m.\u001b[39mcolumns\u001b[38;5;241m.\u001b[39mis_unique \u001b[38;5;129;01mor\u001b[39;00m \u001b[38;5;28misinstance\u001b[39m(\u001b[38;5;28mself\u001b[39m\u001b[38;5;241m.\u001b[39mcolumns, MultiIndex):\n",
      "File \u001b[1;32m~\\Desktop\\programming\\big_data\\torch_env\\Lib\\site-packages\\pandas\\core\\frame.py:5266\u001b[0m, in \u001b[0;36mDataFrame._sanitize_column\u001b[1;34m(self, value)\u001b[0m\n\u001b[0;32m   5263\u001b[0m     \u001b[38;5;28;01mreturn\u001b[39;00m _reindex_for_setitem(value, \u001b[38;5;28mself\u001b[39m\u001b[38;5;241m.\u001b[39mindex)\n\u001b[0;32m   5265\u001b[0m \u001b[38;5;28;01mif\u001b[39;00m is_list_like(value):\n\u001b[1;32m-> 5266\u001b[0m     \u001b[43mcom\u001b[49m\u001b[38;5;241;43m.\u001b[39;49m\u001b[43mrequire_length_match\u001b[49m\u001b[43m(\u001b[49m\u001b[43mvalue\u001b[49m\u001b[43m,\u001b[49m\u001b[43m \u001b[49m\u001b[38;5;28;43mself\u001b[39;49m\u001b[38;5;241;43m.\u001b[39;49m\u001b[43mindex\u001b[49m\u001b[43m)\u001b[49m\n\u001b[0;32m   5267\u001b[0m arr \u001b[38;5;241m=\u001b[39m sanitize_array(value, \u001b[38;5;28mself\u001b[39m\u001b[38;5;241m.\u001b[39mindex, copy\u001b[38;5;241m=\u001b[39m\u001b[38;5;28;01mTrue\u001b[39;00m, allow_2d\u001b[38;5;241m=\u001b[39m\u001b[38;5;28;01mTrue\u001b[39;00m)\n\u001b[0;32m   5268\u001b[0m \u001b[38;5;28;01mif\u001b[39;00m (\n\u001b[0;32m   5269\u001b[0m     \u001b[38;5;28misinstance\u001b[39m(value, Index)\n\u001b[0;32m   5270\u001b[0m     \u001b[38;5;129;01mand\u001b[39;00m value\u001b[38;5;241m.\u001b[39mdtype \u001b[38;5;241m==\u001b[39m \u001b[38;5;124m\"\u001b[39m\u001b[38;5;124mobject\u001b[39m\u001b[38;5;124m\"\u001b[39m\n\u001b[1;32m   (...)\u001b[0m\n\u001b[0;32m   5273\u001b[0m     \u001b[38;5;66;03m# TODO: Remove kludge in sanitize_array for string mode when enforcing\u001b[39;00m\n\u001b[0;32m   5274\u001b[0m     \u001b[38;5;66;03m# this deprecation\u001b[39;00m\n",
      "File \u001b[1;32m~\\Desktop\\programming\\big_data\\torch_env\\Lib\\site-packages\\pandas\\core\\common.py:573\u001b[0m, in \u001b[0;36mrequire_length_match\u001b[1;34m(data, index)\u001b[0m\n\u001b[0;32m    569\u001b[0m \u001b[38;5;250m\u001b[39m\u001b[38;5;124;03m\"\"\"\u001b[39;00m\n\u001b[0;32m    570\u001b[0m \u001b[38;5;124;03mCheck the length of data matches the length of the index.\u001b[39;00m\n\u001b[0;32m    571\u001b[0m \u001b[38;5;124;03m\"\"\"\u001b[39;00m\n\u001b[0;32m    572\u001b[0m \u001b[38;5;28;01mif\u001b[39;00m \u001b[38;5;28mlen\u001b[39m(data) \u001b[38;5;241m!=\u001b[39m \u001b[38;5;28mlen\u001b[39m(index):\n\u001b[1;32m--> 573\u001b[0m     \u001b[38;5;28;01mraise\u001b[39;00m \u001b[38;5;167;01mValueError\u001b[39;00m(\n\u001b[0;32m    574\u001b[0m         \u001b[38;5;124m\"\u001b[39m\u001b[38;5;124mLength of values \u001b[39m\u001b[38;5;124m\"\u001b[39m\n\u001b[0;32m    575\u001b[0m         \u001b[38;5;124mf\u001b[39m\u001b[38;5;124m\"\u001b[39m\u001b[38;5;124m(\u001b[39m\u001b[38;5;132;01m{\u001b[39;00m\u001b[38;5;28mlen\u001b[39m(data)\u001b[38;5;132;01m}\u001b[39;00m\u001b[38;5;124m) \u001b[39m\u001b[38;5;124m\"\u001b[39m\n\u001b[0;32m    576\u001b[0m         \u001b[38;5;124m\"\u001b[39m\u001b[38;5;124mdoes not match length of index \u001b[39m\u001b[38;5;124m\"\u001b[39m\n\u001b[0;32m    577\u001b[0m         \u001b[38;5;124mf\u001b[39m\u001b[38;5;124m\"\u001b[39m\u001b[38;5;124m(\u001b[39m\u001b[38;5;132;01m{\u001b[39;00m\u001b[38;5;28mlen\u001b[39m(index)\u001b[38;5;132;01m}\u001b[39;00m\u001b[38;5;124m)\u001b[39m\u001b[38;5;124m\"\u001b[39m\n\u001b[0;32m    578\u001b[0m     )\n",
      "\u001b[1;31mValueError\u001b[0m: Length of values (1294296) does not match length of index (700000)"
     ]
    }
   ],
   "source": [
    "num_topics = 100\n",
    "nmf_model = NMF(n_components=num_topics, random_state=32)\n",
    "W = nmf_model.fit_transform(tfidf_matrix)\n",
    "H = nmf_model.components_\n",
    "\n",
    "top_k_words = 25\n",
    "feature_names = vectorizer.get_feature_names_out()\n",
    "topics = {}\n",
    "for topic_idx, topic in enumerate(H):\n",
    "  top_features_ind = topic.argsort()[:-top_k_words - 1:-1]\n",
    "  top_features = [feature_names[i] for i in top_features_ind]\n",
    "  topics[topic_idx] = top_features\n",
    "  print(f\"Topic {topic_idx}: {', '.join(top_features)}\")\n",
    "\n",
    "# Step 7: Assign Topics to Jobs\n",
    "sample_data['top_topics'] = W.argmax(axis=1)\n",
    "print(sample_data[['job_skills', 'top_topics']])"
   ]
  },
  {
   "cell_type": "markdown",
   "id": "cdfc9fca-0b7c-4bea-9aff-9c4300601d32",
   "metadata": {},
   "source": [
    "## Individual elements testing"
   ]
  },
  {
   "cell_type": "code",
   "execution_count": 10,
   "id": "e537b038-9444-4e0b-a3ba-f27066458287",
   "metadata": {},
   "outputs": [],
   "source": [
    "qa_engineer_skills = [\n",
    "    \"Manual Testing\",\n",
    "    \"Automation Testing\",\n",
    "    \"Test Case Development\",\n",
    "    \"Defect Tracking and Management\",\n",
    "    \"Software Development Life Cycle (SDLC)\",\n",
    "    \"Version Control Systems\",\n",
    "    \"Performance Testing\",\n",
    "    \"Security Testing\",\n",
    "    \"Mobile Testing\",\n",
    "    \"API Testing\",\n",
    "    \"Continuous Integration/Continuous Deployment (CI/CD)\",\n",
    "    \"Soft Skills\",\n",
    "    \"Test Automation Frameworks\",\n",
    "    \"DevOps Practices\",\n",
    "    \"Programming Skills\",\n",
    "    \"Database/SQL\",\n",
    "    \"Continuous Learning\"\n",
    "]"
   ]
  },
  {
   "cell_type": "code",
   "execution_count": 11,
   "id": "f94b3c60-f3c6-469f-916b-a054536106b0",
   "metadata": {},
   "outputs": [],
   "source": [
    "data_analyst =\"\"\"Develop, implement, and maintain leading-edge analytics systems, taking complicated problems and building simple frameworks\n",
    "Identify trends and opportunities for growth through analysis of complex datasets\n",
    "Evaluate organizational methods and provide source-to-target mappings and information-model specification documents for datasets\n",
    "Create best-practice reports based on data mining, analysis, and visualization\n",
    "Evaluate internal systems for efficiency, problems, and inaccuracies, and develop and maintain protocols for handling, processing, and cleaning data\n",
    "Work directly with managers and users to gather requirements, provide status updates, and build relationships\n",
    "Responsibilities\n",
    "Work closely with project managers to understand and maintain focus on their analytics needs, including critical metrics and KPIs, and deliver actionable insights to relevant decision-makers\n",
    "Proactively analyze data to answer key questions for stakeholders or yourself, with an eye on what drives business performance, and investigate and communicate which areas need improvement in efficiency and productivity\n",
    "Create and maintain rich interactive visualizations through data interpretation and analysis, with reporting components from multiple data sources\n",
    "Define and implement data acquisition and integration logic, selecting an appropriate combination of methods and tools within the defined technology stack to ensure optimal scalability and performance of the solution\n",
    "Develop and maintain databases by acquiring data from primary and secondary sources, and build scripts that will make our data evaluation process more flexible or scalable across datasets\n",
    "Required skills and qualifications\n",
    "Three or more years of experience mining data as a data analyst\n",
    "Proven analytics skills, including mining, evaluation, and visualization\n",
    "Technical writing experience in relevant areas, including queries, reports, and presentations\n",
    "Strong SQL or Excel skills, with aptitude for learning other analytics tools\n",
    "Preferred skills and qualifications\n",
    "Bachelor’s degree (or equivalent) in mathematics, computer science, economics, or statistics\n",
    "Experience with database and model design and segmentation techniques\n",
    "Strong programming experience with frameworks, including XML, JavaScript, and ETL\n",
    "Practical experience in statistical analysis through the use of statistical packages, including Excel, SPSS, and SAS\n",
    "Proven success in a collaborative, team-oriented environment\"\"\" "
   ]
  },
  {
   "cell_type": "code",
   "execution_count": 12,
   "id": "88ca3944-3a22-460e-831a-6beb0fbb3bbe",
   "metadata": {},
   "outputs": [
    {
     "name": "stdout",
     "output_type": "stream",
     "text": [
      "Representative skills for a QA Engineer: requirements, cybersecurity, network, system, security, interpersonal, incident, unit, clearance, user, information, organizational, testing, strong, communication, documentation, integration, test, analytical, skills, cyber, infrastructure, risk, problemsolving, automation, excellent, mathematical, presentation, functional\n"
     ]
    }
   ],
   "source": [
    "def get_top_n_topics_for_text(text, vectorizer, nmf_model, n=10):\n",
    "    # Preprocess and vectorize the text\n",
    "    tfidf_vector = vectorizer.transform([text])\n",
    "    \n",
    "    # Apply the NMF model to the vectorized text\n",
    "    W_text = nmf_model.transform(tfidf_vector)\n",
    "    \n",
    "    # Get the top N topics for the text\n",
    "    topic_strengths = W_text[0]\n",
    "    top_topic_indices = topic_strengths.argsort()[-n:][::-1]\n",
    "    return top_topic_indices\n",
    "def get_representative_skills(job_description, vectorizer, nmf_model, topics, top_n=10, top_k_words=25):\n",
    "    top_topics = get_top_n_topics_for_text(job_description, vectorizer, nmf_model, top_n)\n",
    "    representative_skills = set()\n",
    "    for topic_idx in top_topics:\n",
    "        representative_skills.update(topics[topic_idx][:top_k_words])\n",
    "    return list(representative_skills)\n",
    "    \n",
    "# Example usage: Get the top 10 topics for a new text\n",
    "new_text = ' '.join(qa_engineer_skills)\n",
    "top_n = 10\n",
    "representative_skills = get_representative_skills(new_text, vectorizer, nmf_model, topics, top_n=3, top_k_words=10)\n",
    "print(f\"Representative skills for a QA Engineer: {', '.join(representative_skills)}\")\n"
   ]
  },
  {
   "cell_type": "markdown",
   "id": "114da9a6-01aa-4afb-8690-bec6a693fd8c",
   "metadata": {},
   "source": [
    "For the QA engineer, it seems that the skills matched are good and represent the topic."
   ]
  },
  {
   "cell_type": "code",
   "execution_count": 13,
   "id": "df2c6916-86b2-4cc6-98d7-345dfea845e1",
   "metadata": {},
   "outputs": [],
   "source": [
    "representative_skills = get_representative_skills(data_analyst, vectorizer, nmf_model, topics, top_n=10, top_k_words=10)\n"
   ]
  },
  {
   "cell_type": "code",
   "execution_count": 14,
   "id": "f39144e4-ff23-4bfc-b2b4-3e440fa3d011",
   "metadata": {},
   "outputs": [
    {
     "name": "stdout",
     "output_type": "stream",
     "text": [
      "Representative skills for a data analyst: retail, processing, safe, erp, tableau, industry, public, microsoft, previous, speaking, excel, root, noise, cost, information, research, testing, environmental, documentation, fastpaced, analytical, preferred, two, skills, problemsolving, mathematical, presentation, functional, player, systems, electronic, visualization, prior, one, related, outlook, sap, years, cause, unit, experience, setting, forecasting, intelligence, organizational, teams, age, year, market, integration, access, collaborative, grant, relevant, operating, passion, supervisory, bi, attitude, interpersonal, powerpoint, positive, user, team, pos, analysis, statistical, writing, data, collection, excellent, automation, analytics, sql, minimum, word, requirements, system, field, environment, technical, reporting, proposal, months, strong, communication, fire, entry, test, epic, ms, report\n"
     ]
    }
   ],
   "source": [
    "print(f\"Representative skills for a data analyst: {', '.join(representative_skills)}\")\n"
   ]
  },
  {
   "cell_type": "markdown",
   "id": "8656e7c6-a6b4-4499-98f0-4caee929e95a",
   "metadata": {},
   "source": [
    "Same thing for the data analyst job, but it seems that it tends to ingore some hard technical skills, like python, power bi, mysql etc ... But we can be optimistic about the results since that it captures most of the important words. "
   ]
  },
  {
   "cell_type": "code",
   "execution_count": 15,
   "id": "f45831b6-b5ff-4d8b-9d95-1edc4db21e81",
   "metadata": {},
   "outputs": [],
   "source": [
    "web_developer = \"\"\"  Write well designed, testable, efficient code by using best software development practices\n",
    "Create website layout/user interface by using standard HTML/CSS practices\n",
    "Integrate data from various back-end services and databases\n",
    "Gather and refine specifications and requirements based on technical needs\n",
    "Create and maintain software documentation\n",
    "Be responsible for maintaining, expanding, and scaling our site\n",
    "Stay plugged into emerging technologies/industry trends and apply them into operations and activities\n",
    "Cooperate with web designers to match visual design intent\n",
    "Requirements and skills\n",
    "Proven working experience in web programming\n",
    "Top-notch programming skills and in-depth knowledge of modern HTML/CSS\n",
    "Familiarity with at least one of the following programming languages: PHP, ASP.NET, Javascript or Ruby on Rails\n",
    "A solid understanding of how web applications work including security, session management, and best development practices\n",
    "Adequate knowledge of relational database systems, Object Oriented Programming and web application development\n",
    "Hands-on experience with network diagnostics, network analytics tools\n",
    "Basic knowledge of Search Engine Optimization process\n",
    "Aggressive problem diagnosis and creative problem solving skills\n",
    "Strong organizational skills to juggle multiple tasks within the constraints of  timelines and budgets with business acumen\n",
    "Ability to work and thrive in a fast-paced environment, learn rapidly and master diverse web technologies and techniques.\n",
    "BS in computer science or a related field\"\"\""
   ]
  },
  {
   "cell_type": "code",
   "execution_count": 16,
   "id": "f36ea9fd-6081-4762-942d-870618d75136",
   "metadata": {},
   "outputs": [],
   "source": [
    "representative_skills = get_representative_skills(web_developer, vectorizer, nmf_model, topics, top_n=3, top_k_words=20)\n"
   ]
  },
  {
   "cell_type": "code",
   "execution_count": 17,
   "id": "5f2fed2a-b20a-4dc5-b357-37a1e87a1ff3",
   "metadata": {},
   "outputs": [
    {
     "name": "stdout",
     "output_type": "stream",
     "text": [
      "Representative skills for a web developer: threat, cloud, cybersecurity, dod, response, listening, safe, network, system, decisionmaking, security, abilities, interpersonal, motivational, attitude, player, inclusive, secret, pc, environment, diverse, math, incident, noise, networking, clearance, prioritization, administrative, vulnerability, us, positive, supportive, time, information, organizational, strong, paced, weather, communication, team, working, dynamic, fastpaced, work, analytical, access, multitasking, collaborative, skills, cyber, infrastructure, risk, problemsolving, excellent, mathematical, windows, passion, presentation, irs\n"
     ]
    }
   ],
   "source": [
    "print(f\"Representative skills for a web developer: {', '.join(representative_skills)}\")\n"
   ]
  },
  {
   "cell_type": "markdown",
   "id": "3d88a0fd-ab65-46de-8099-819763a9220f",
   "metadata": {},
   "source": [
    "For the web developer job, it seems that the model is struggling to find a clear topic, and ignores all the hard skills like html, css and javascript. "
   ]
  },
  {
   "cell_type": "code",
   "execution_count": 18,
   "id": "cc1d6299-d0f3-4add-8ef6-fa713c931dff",
   "metadata": {},
   "outputs": [],
   "source": [
    "rayen = \"\"\"Education : related courses : \n",
    "- statistical analysis \n",
    "- machine learning \n",
    "- deep learning \n",
    "- cloud services  \n",
    "- probability and statistics \n",
    "Experience : \n",
    "machine learning intern : \n",
    "● Identified business challenges and opportunities within the recruitment process and applied Natural Language\n",
    "Processing techniques to develop an innovative Application Tracking System. This system efficiently ranked\n",
    "candidates for specific job descriptions, using named entity recognition and word embedding, resulting in a\n",
    "significant reduction in the time spent on candidate selection.\n",
    "● Orchestrated a comprehensive data acquisition strategy to harvest and preprocess candidate application data\n",
    "with precision.\n",
    "● Collaborated closely with HR and engineering teams to deploy the system using FastAPI and Vue.js, ensuring a\n",
    "user-friendly interface for recruiters, and precisely mapped out a plan for the next 2 upcoming versions and\n",
    "enhancements.\n",
    "Buisness developer at enactus fst el manar : \n",
    "●Contributed to product creation, market evaluation, and customer segmentation while driving\n",
    "clients' behavior analysis.\n",
    "● Collaborated effectively with the sales team to develop a robust sales strategy for optimal results in 2 different\n",
    "projects : Moonray, and Student plus\n",
    "Junior machine learning engineer at omdena : \n",
    "● Played a pivotal role in the successful development and deployment of a computer vision system using deep\n",
    "learning techniques ( pytorch ) in Egyptian orphanages, effectively tackling the issue of constrained monitoring.\n",
    "● Gained expertise in deploying accurate solutions with low computational capabilities using python.\n",
    "● Helped improve the well-being of more than 220 children.\n",
    "Data analyst : omdena : \n",
    "● Successfully extracted and delivered actionable insights from a diverse dataset as part of the Omdena initiative for Peru's Open Data Platform, enabling positive transformation in Lima and significantly enhancing the quality of life for its residents. \n",
    "● Applied Python techniques for data collection and preprocessing, and Power BI for visualization dashboards, yielding critical insights into aggression trends and contributing to targeted interventions in Lima.\n",
    "IT consultant at optima junior entreprise:  \n",
    "● Utilized Vue.js, Laravel, and MySQL to successfully aggregate diverse data sources, standardize data storage, and develop interactive dashboards, leading to enhanced data management efficiency, elevated data quality, and user-friendly data accessibility.\n",
    "Data science unity manager engineers spark : \n",
    "● Contributed To building a training strategy In the field of Data science for college students. \n",
    "● Executed 7 training sessions which significantly elevated students' proficiency in data science, achieving a remarkable 60% knowledge enhancement, coupled with an impressive satisfaction rate exceeding 85%.\n",
    "Projects : \n",
    "Student performance prediction and analysis : \n",
    "Utilized and combined various machine learning techniques such as bagging and boosting with Python to predict\n",
    "the performance of high school students.\n",
    "● Employed Local and global interpretation techniques with Python to conduct in-depth analysis of the\n",
    "inter-relations among various educational factors for performance prediction.\n",
    "● Conducted A/B testing on a cohort of 1000 high school students to assess the impact of different educational\n",
    "interventions and refine performance prediction models. \n",
    "Sales analysis : \n",
    "This project analyzes sales data with 3 interactive and clear dashboards. It summarizes sales indicators, highlights customer preferences, and details product categories/specifications driving valuable insights to inform business decisions. \n",
    "Virtual accounting firm : \n",
    "The platform aims to automate a workflow using angular. Additionally, it allows for better tracking of the accounting firm's resources and ensures more accurate and transparent billing for clients. It operates as a virtual office. Therefore, the principle is to automate various tasks that are typically performed in a \"physical\" office.\"\"\""
   ]
  },
  {
   "cell_type": "code",
   "execution_count": 19,
   "id": "2ea838df-529e-4813-be8a-c65a618ef244",
   "metadata": {},
   "outputs": [],
   "source": [
    "representative_skills = get_representative_skills(rayen, vectorizer, nmf_model, topics, top_n=3, top_k_words=20)\n"
   ]
  },
  {
   "cell_type": "code",
   "execution_count": 20,
   "id": "4d760063-58ba-4779-a754-420e807ade07",
   "metadata": {},
   "outputs": [
    {
     "name": "stdout",
     "output_type": "stream",
     "text": [
      "Representative skills for a data analyst: online, learning, platform, requirements, inspection, subjectmatter, collaboration, system, agile, small, science, application, trend, unit, expertise, verification, cause, root, cost, forecasting, reporting, large, user, validation, personality, variance, pricing, personalization, instant, testing, research, acceptance, group, adaptive, strategic, process, api, documentation, analysis, statistical, market, assessments, ai, test, integration, personalized, analytical, lesson, live, automated, data, troubleshooting, gathering, risk, automation, functional, presentation, classes, quantitative, tutoring\n"
     ]
    }
   ],
   "source": [
    "print(f\"Representative skills for a data analyst: {', '.join(representative_skills)}\")\n"
   ]
  },
  {
   "cell_type": "markdown",
   "id": "7aeda616-3662-4e3f-bae9-7be89ae14ce2",
   "metadata": {},
   "source": [
    "This example is a combination between data analysis and machine learning and resulted in a more general topic representation. Not much noise was introduced, but as mentioned before, there is a lack of hard technical keyword capturing, this may be due to how tf-idf penalizes frequent elements."
   ]
  },
  {
   "cell_type": "code",
   "execution_count": 21,
   "id": "5d77319f-c1c9-4300-b749-5b27e0f96093",
   "metadata": {},
   "outputs": [],
   "source": [
    "graphic_designer = \"\"\" Collaborating with multiple teams across the company, the graphic designer should be able to take written or spoken ideas and convert them into a design that connects. The successful candidate will have a thorough understanding of branding and marketing, and be able to find the right style and layout for every project.\n",
    "\n",
    "Objectives of this role\n",
    "Work on a wide range of projects and media, using various software programs to visualize and develop innovative graphic designs that meet business goals\n",
    "Obtain input from managers to ensure that designs meet organizational standards and brand expectations, express ideas accurately, and represent the company or client appropriately\n",
    "Work independently as well as cooperatively with marketing team to meet deadlines, stay within budget, and schedule project implementation based on workload, which may include five or more simultaneous projects\n",
    "Examine existing processes, identify flaws, and create solutions that improve design capabilities\n",
    "Update and maintain internal databases for designs, photography, and video\n",
    "Responsibilities\n",
    "Collaborate, brainstorm, and strategize with multiple teams or clients on a wide range of materials that may include web pages, presentations, programming collateral, signage, internal communications, newsletters, and marketing materials\n",
    "Translate strategic direction into high-quality design within an established brand identity\n",
    "Develop concepts by hand or with software, and execute original content by determining the ideal usage of color, text, font style, imagery, and layout\n",
    "Manage the design and uploading process for all project materials, based on best practices for using a content management system\n",
    "Use trend intelligence and knowledge of historical and current markets when designing and executing specific classifications\n",
    "Required skills and qualifications\n",
    "Exceptional creativity and innovative design skills\n",
    "Five or more years of experience (academic and professional) with design software, including Illustrator, InDesign, Photoshop, Dreamweaver\"\"\" "
   ]
  },
  {
   "cell_type": "code",
   "execution_count": 22,
   "id": "dc1f5bae-ca03-4827-bd16-21edc6c8f1e6",
   "metadata": {},
   "outputs": [],
   "source": [
    "representative_skills = get_representative_skills(graphic_designer, vectorizer, nmf_model, topics, top_n=3, top_k_words=20)\n"
   ]
  },
  {
   "cell_type": "code",
   "execution_count": 25,
   "id": "4d99a027-536f-4f54-bc8b-bf99a3b0c489",
   "metadata": {},
   "outputs": [
    {
     "name": "stdout",
     "output_type": "stream",
     "text": [
      "Representative skills for a graphic designer: layout, modeling, creative, processing, content, marketing, architecture, agile, interior, cad, ux, public, property, autocad, applications, c, product, seo, relations, prototyping, media, social, creation, embedded, standards, photoshop, user, graphic, design, adobe, digital, editing, event, spreadsheet, database, languages, software, coding, objectoriented, crm, campaign, architectural, integration, programming, hardware, configuration, debugging, advertising, google, revit, communications, strategy, specifications, structural, analytics, tools, brand\n"
     ]
    }
   ],
   "source": [
    "print(f\"Representative skills for a graphic designer: {', '.join(representative_skills)}\")\n"
   ]
  },
  {
   "cell_type": "markdown",
   "id": "96ab1a0e-83a3-45a1-a68a-04d6c8a6bf6c",
   "metadata": {},
   "source": [
    "For the graphic designer post, the model captured many important keywords, but it introduced some confusion with analytical topics, this might be due to the confusion with presentation skills."
   ]
  },
  {
   "cell_type": "code",
   "execution_count": 26,
   "id": "0ea0d264-ea22-45eb-92a6-12a3de41ea3e",
   "metadata": {},
   "outputs": [],
   "source": [
    "Agriculture = \"\"\"Here are some of the main activities and tasks that Agricultural representatives, consultants and specialists have to perform, and some of the physical demands they involve:\n",
    "\n",
    "Provide counselling and advisory services to farmers on crop cultivation and fertilization, harvesting, animal and poultry care, disease prevention, farm management, farm financing, marketing and other agricultural subjects\n",
    "Prepare and conduct advisory information sessions and lectures for farmers and other groups\n",
    "Conduct research, analyze agricultural data and prepare research reports\n",
    "Liaise with researchers, educators and government or business managers on matters pertaining to farming and agriculture\n",
    "Maintain records of services provided and the effects of advice given\n",
    "May operate unmanned aerial vehicle/drone to map drainage, plant seeds, analyze crop health and identify areas of stress and evenly spray fertilizers or pesticides.\"\"\" \n"
   ]
  },
  {
   "cell_type": "code",
   "execution_count": 27,
   "id": "21fbaadc-3dea-4cc7-b316-b441c8fed396",
   "metadata": {},
   "outputs": [],
   "source": [
    "representative_skills = get_representative_skills(Agriculture, vectorizer, nmf_model, topics, top_n=3, top_k_words=20)\n"
   ]
  },
  {
   "cell_type": "code",
   "execution_count": 28,
   "id": "c5b2db96-648d-4346-90ac-afbbc5ad9c56",
   "metadata": {},
   "outputs": [
    {
     "name": "stdout",
     "output_type": "stream",
     "text": [
      "Representative skills for an agriculture worker: acute, requirements, case, law, jd, industry, acumen, finance, intensive, doctor, consulting, commercial, patientcentered, compassion, clinical, juris, unit, administration, primary, interdisciplinary, intelligence, chain, business, research, technology, home, compassionate, real, contract, strategic, litigation, process, legal, market, wound, writing, client, analytical, coordination, negotiation, estate, trial, hospice, strategy, care, advocacy, palliative, urgent, critical, court, drafting, analytics, presentation, bar, plans, services, supply\n"
     ]
    }
   ],
   "source": [
    "print(f\"Representative skills for an agriculture worker: {', '.join(representative_skills)}\")\n"
   ]
  },
  {
   "cell_type": "markdown",
   "id": "1894974f-b727-4194-82d5-4aa914a66040",
   "metadata": {},
   "source": [
    "## Testing using coherence score"
   ]
  },
  {
   "cell_type": "code",
   "execution_count": 30,
   "id": "3ff36aef-5b2a-452b-8736-e402928aa83c",
   "metadata": {},
   "outputs": [
    {
     "name": "stdout",
     "output_type": "stream",
     "text": [
      "Collecting gensim\n",
      "  Using cached gensim-4.3.2-cp311-cp311-win_amd64.whl (24.0 MB)\n",
      "Requirement already satisfied: numpy>=1.18.5 in c:\\users\\rayen\\desktop\\programming\\big_data\\torch_env\\lib\\site-packages (from gensim) (1.26.4)\n",
      "Requirement already satisfied: scipy>=1.7.0 in c:\\users\\rayen\\desktop\\programming\\big_data\\torch_env\\lib\\site-packages (from gensim) (1.13.0)\n",
      "Collecting smart-open>=1.8.1 (from gensim)\n",
      "  Using cached smart_open-7.0.4-py3-none-any.whl (61 kB)\n",
      "Collecting wrapt (from smart-open>=1.8.1->gensim)\n",
      "  Using cached wrapt-1.16.0-cp311-cp311-win_amd64.whl (37 kB)\n",
      "Installing collected packages: wrapt, smart-open, gensim\n",
      "Successfully installed gensim-4.3.2 smart-open-7.0.4 wrapt-1.16.0\n"
     ]
    },
    {
     "name": "stderr",
     "output_type": "stream",
     "text": [
      "\n",
      "[notice] A new release of pip is available: 23.1.2 -> 24.0\n",
      "[notice] To update, run: python.exe -m pip install --upgrade pip\n"
     ]
    }
   ],
   "source": [
    "!pip install gensim"
   ]
  },
  {
   "cell_type": "code",
   "execution_count": 43,
   "id": "cde0b64a-1558-4262-a47b-e78c9e0e5712",
   "metadata": {},
   "outputs": [
    {
     "ename": "ImportError",
     "evalue": "cannot import name 'triu' from 'scipy.linalg' (C:\\Users\\rayen\\Desktop\\programming\\big_data\\torch_env\\Lib\\site-packages\\scipy\\linalg\\__init__.py)",
     "output_type": "error",
     "traceback": [
      "\u001b[1;31m---------------------------------------------------------------------------\u001b[0m",
      "\u001b[1;31mImportError\u001b[0m                               Traceback (most recent call last)",
      "Cell \u001b[1;32mIn[43], line 1\u001b[0m\n\u001b[1;32m----> 1\u001b[0m \u001b[38;5;28;01mfrom\u001b[39;00m \u001b[38;5;21;01mgensim\u001b[39;00m\u001b[38;5;21;01m.\u001b[39;00m\u001b[38;5;21;01mmodels\u001b[39;00m\u001b[38;5;21;01m.\u001b[39;00m\u001b[38;5;21;01mcoherencemodel\u001b[39;00m \u001b[38;5;28;01mimport\u001b[39;00m CoherenceModel\n",
      "File \u001b[1;32m~\\Desktop\\programming\\big_data\\torch_env\\Lib\\site-packages\\gensim\\__init__.py:11\u001b[0m\n\u001b[0;32m      7\u001b[0m __version__ \u001b[38;5;241m=\u001b[39m \u001b[38;5;124m'\u001b[39m\u001b[38;5;124m4.3.2\u001b[39m\u001b[38;5;124m'\u001b[39m\n\u001b[0;32m      9\u001b[0m \u001b[38;5;28;01mimport\u001b[39;00m \u001b[38;5;21;01mlogging\u001b[39;00m\n\u001b[1;32m---> 11\u001b[0m \u001b[38;5;28;01mfrom\u001b[39;00m \u001b[38;5;21;01mgensim\u001b[39;00m \u001b[38;5;28;01mimport\u001b[39;00m parsing, corpora, matutils, interfaces, models, similarities, utils  \u001b[38;5;66;03m# noqa:F401\u001b[39;00m\n\u001b[0;32m     14\u001b[0m logger \u001b[38;5;241m=\u001b[39m logging\u001b[38;5;241m.\u001b[39mgetLogger(\u001b[38;5;124m'\u001b[39m\u001b[38;5;124mgensim\u001b[39m\u001b[38;5;124m'\u001b[39m)\n\u001b[0;32m     15\u001b[0m \u001b[38;5;28;01mif\u001b[39;00m \u001b[38;5;129;01mnot\u001b[39;00m logger\u001b[38;5;241m.\u001b[39mhandlers:  \u001b[38;5;66;03m# To ensure reload() doesn't add another one\u001b[39;00m\n",
      "File \u001b[1;32m~\\Desktop\\programming\\big_data\\torch_env\\Lib\\site-packages\\gensim\\corpora\\__init__.py:6\u001b[0m\n\u001b[0;32m      1\u001b[0m \u001b[38;5;124;03m\"\"\"\u001b[39;00m\n\u001b[0;32m      2\u001b[0m \u001b[38;5;124;03mThis package contains implementations of various streaming corpus I/O format.\u001b[39;00m\n\u001b[0;32m      3\u001b[0m \u001b[38;5;124;03m\"\"\"\u001b[39;00m\n\u001b[0;32m      5\u001b[0m \u001b[38;5;66;03m# bring corpus classes directly into package namespace, to save some typing\u001b[39;00m\n\u001b[1;32m----> 6\u001b[0m \u001b[38;5;28;01mfrom\u001b[39;00m \u001b[38;5;21;01m.\u001b[39;00m\u001b[38;5;21;01mindexedcorpus\u001b[39;00m \u001b[38;5;28;01mimport\u001b[39;00m IndexedCorpus  \u001b[38;5;66;03m# noqa:F401 must appear before the other classes\u001b[39;00m\n\u001b[0;32m      8\u001b[0m \u001b[38;5;28;01mfrom\u001b[39;00m \u001b[38;5;21;01m.\u001b[39;00m\u001b[38;5;21;01mmmcorpus\u001b[39;00m \u001b[38;5;28;01mimport\u001b[39;00m MmCorpus  \u001b[38;5;66;03m# noqa:F401\u001b[39;00m\n\u001b[0;32m      9\u001b[0m \u001b[38;5;28;01mfrom\u001b[39;00m \u001b[38;5;21;01m.\u001b[39;00m\u001b[38;5;21;01mbleicorpus\u001b[39;00m \u001b[38;5;28;01mimport\u001b[39;00m BleiCorpus  \u001b[38;5;66;03m# noqa:F401\u001b[39;00m\n",
      "File \u001b[1;32m~\\Desktop\\programming\\big_data\\torch_env\\Lib\\site-packages\\gensim\\corpora\\indexedcorpus.py:14\u001b[0m\n\u001b[0;32m     10\u001b[0m \u001b[38;5;28;01mimport\u001b[39;00m \u001b[38;5;21;01mlogging\u001b[39;00m\n\u001b[0;32m     12\u001b[0m \u001b[38;5;28;01mimport\u001b[39;00m \u001b[38;5;21;01mnumpy\u001b[39;00m\n\u001b[1;32m---> 14\u001b[0m \u001b[38;5;28;01mfrom\u001b[39;00m \u001b[38;5;21;01mgensim\u001b[39;00m \u001b[38;5;28;01mimport\u001b[39;00m interfaces, utils\n\u001b[0;32m     16\u001b[0m logger \u001b[38;5;241m=\u001b[39m logging\u001b[38;5;241m.\u001b[39mgetLogger(\u001b[38;5;18m__name__\u001b[39m)\n\u001b[0;32m     19\u001b[0m \u001b[38;5;28;01mclass\u001b[39;00m \u001b[38;5;21;01mIndexedCorpus\u001b[39;00m(interfaces\u001b[38;5;241m.\u001b[39mCorpusABC):\n",
      "File \u001b[1;32m~\\Desktop\\programming\\big_data\\torch_env\\Lib\\site-packages\\gensim\\interfaces.py:19\u001b[0m\n\u001b[0;32m      7\u001b[0m \u001b[38;5;124;03m\"\"\"Basic interfaces used across the whole Gensim package.\u001b[39;00m\n\u001b[0;32m      8\u001b[0m \n\u001b[0;32m      9\u001b[0m \u001b[38;5;124;03mThese interfaces are used for building corpora, model transformation and similarity queries.\u001b[39;00m\n\u001b[1;32m   (...)\u001b[0m\n\u001b[0;32m     14\u001b[0m \n\u001b[0;32m     15\u001b[0m \u001b[38;5;124;03m\"\"\"\u001b[39;00m\n\u001b[0;32m     17\u001b[0m \u001b[38;5;28;01mimport\u001b[39;00m \u001b[38;5;21;01mlogging\u001b[39;00m\n\u001b[1;32m---> 19\u001b[0m \u001b[38;5;28;01mfrom\u001b[39;00m \u001b[38;5;21;01mgensim\u001b[39;00m \u001b[38;5;28;01mimport\u001b[39;00m utils, matutils\n\u001b[0;32m     22\u001b[0m logger \u001b[38;5;241m=\u001b[39m logging\u001b[38;5;241m.\u001b[39mgetLogger(\u001b[38;5;18m__name__\u001b[39m)\n\u001b[0;32m     25\u001b[0m \u001b[38;5;28;01mclass\u001b[39;00m \u001b[38;5;21;01mCorpusABC\u001b[39;00m(utils\u001b[38;5;241m.\u001b[39mSaveLoad):\n",
      "File \u001b[1;32m~\\Desktop\\programming\\big_data\\torch_env\\Lib\\site-packages\\gensim\\matutils.py:23\u001b[0m\n\u001b[0;32m     21\u001b[0m \u001b[38;5;28;01mfrom\u001b[39;00m \u001b[38;5;21;01mscipy\u001b[39;00m\u001b[38;5;21;01m.\u001b[39;00m\u001b[38;5;21;01mlinalg\u001b[39;00m\u001b[38;5;21;01m.\u001b[39;00m\u001b[38;5;21;01mlapack\u001b[39;00m \u001b[38;5;28;01mimport\u001b[39;00m get_lapack_funcs\n\u001b[0;32m     22\u001b[0m \u001b[38;5;28;01mfrom\u001b[39;00m \u001b[38;5;21;01mscipy\u001b[39;00m\u001b[38;5;21;01m.\u001b[39;00m\u001b[38;5;21;01mspecial\u001b[39;00m \u001b[38;5;28;01mimport\u001b[39;00m psi  \u001b[38;5;66;03m# gamma function utils\u001b[39;00m\n\u001b[1;32m---> 23\u001b[0m \u001b[38;5;28;01mfrom\u001b[39;00m \u001b[38;5;21;01mscipy\u001b[39;00m\u001b[38;5;21;01m.\u001b[39;00m\u001b[38;5;21;01mlinalg\u001b[39;00m \u001b[38;5;28;01mimport\u001b[39;00m triu\n\u001b[0;32m     25\u001b[0m logger \u001b[38;5;241m=\u001b[39m logging\u001b[38;5;241m.\u001b[39mgetLogger(\u001b[38;5;18m__name__\u001b[39m)\n\u001b[0;32m     28\u001b[0m \u001b[38;5;28;01mdef\u001b[39;00m \u001b[38;5;21mblas\u001b[39m(name, ndarray):\n",
      "\u001b[1;31mImportError\u001b[0m: cannot import name 'triu' from 'scipy.linalg' (C:\\Users\\rayen\\Desktop\\programming\\big_data\\torch_env\\Lib\\site-packages\\scipy\\linalg\\__init__.py)"
     ]
    }
   ],
   "source": [
    "from gensim.models.coherencemodel import CoherenceModel\n"
   ]
  },
  {
   "cell_type": "code",
   "execution_count": null,
   "id": "055caeb3-82f6-4946-81df-ece595ffbc20",
   "metadata": {},
   "outputs": [],
   "source": []
  },
  {
   "cell_type": "code",
   "execution_count": null,
   "id": "e34c1470-13eb-4aa9-bfeb-c7e6d7cb0bbe",
   "metadata": {},
   "outputs": [],
   "source": []
  }
 ],
 "metadata": {
  "kernelspec": {
   "display_name": "Python 3 (ipykernel)",
   "language": "python",
   "name": "python3"
  },
  "language_info": {
   "codemirror_mode": {
    "name": "ipython",
    "version": 3
   },
   "file_extension": ".py",
   "mimetype": "text/x-python",
   "name": "python",
   "nbconvert_exporter": "python",
   "pygments_lexer": "ipython3",
   "version": "3.11.4"
  }
 },
 "nbformat": 4,
 "nbformat_minor": 5
}
